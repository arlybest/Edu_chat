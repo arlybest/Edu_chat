{
 "cells": [
  {
   "cell_type": "markdown",
   "metadata": {},
   "source": [
    "# Créer et exécuter un pipeline RAG local à partir de zéro\n",
    "\n",
    "L'objectif de ce notebook est de créer un pipeline RAG (Retrieval Augmented Generation) à partir de zéro et de le faire fonctionner sur un GPU local.\n",
    "\n",
    "Plus précisément, nous aimerions pouvoir ouvrir un fichier PDF, lui poser des questions (requêtes) et y répondre par un Large Language Model (LLM).\n",
    "\n",
    "Il existe des frameworks qui reproduisent ce type de flux de travail, notamment [LlamaIndex](https://www.llamaindex.ai/) et [LangChain](https://www.langchain.com/). Cependant, l'objectif de construire à partir de scratch, c'est pouvoir inspecter et personnaliser toutes les pièces."
   ]
  },
  {
   "cell_type": "markdown",
   "metadata": {},
   "source": [
    "## Pourquoi RAG ?\n",
    "\n",
    "L'objectif principal de RAG est d'améliorer le rendement de génération des LLM.\n",
    "\n",
    "Deux améliorations principales peuvent être considérées comme :\n",
    "1. **Prévenir les hallucinations** - Les LLM sont incroyables mais ils sont sujets à des hallucinations potentielles, comme générer quelque chose qui *semble* correct mais ne l'est pas. Les pipelines RAG peuvent aider les LLM à générer davantage de résultats factuels en leur fournissant des entrées factuelles (récupérées). Et même si la réponse générée à partir d'un pipeline RAG ne semble pas correcte, grâce à la récupération, vous avez également accès aux sources d'où elle provient.\n",
    "2. **Travailler avec des données personnalisées** - De nombreux LLM de base sont formés avec des données textuelles à l'échelle Internet. Cela signifie qu’ils ont une grande capacité à modéliser le langage, mais qu’ils manquent souvent de connaissances spécifiques. Les systèmes RAG peuvent fournir aux LLM des données spécifiques à un domaine telles que des informations médicales ou de la documentation d'entreprise et ainsi personnaliser leurs sorties pour répondre à des cas d'utilisation spécifiques.\n",
    "\n",
    "Les auteurs de l’article original du RAG mentionné ci-dessus ont souligné ces deux points dans leur discussion.\n",
    "\n",
    "> Ce travail offre plusieurs avantages sociétaux positifs par rapport aux travaux antérieurs : le fait qu'il soit plus\n",
    "fortement ancré dans des connaissances factuelles réelles (dans ce cas Wikipédia), le rend moins « halluciné »\n",
    "avec des générations plus factuelles et offre plus de contrôle et d’interprétabilité. RAG pourrait être\n",
    "employé dans une grande variété de scénarios bénéficiant directement à la société, par exemple en la dotant\n",
    "avec un index médical et en lui posant des questions ouvertes sur ce sujet, ou en aidant les gens à être plus\n",
    "efficaces dans leur travail.\n",
    "\n",
    "RAG peut également être une solution beaucoup plus rapide à mettre en œuvre que d’affiner un LLM sur des données spécifiques."
   ]
  },
  {
   "cell_type": "markdown",
   "metadata": {},
   "source": [
    "Pourquoi local ?\n",
    "Confidentialité, rapidité, coût.\n",
    "\n",
    "Exécuter localement signifie que vous utilisez votre propre matériel.\n",
    "\n",
    "Du point de vue de la confidentialité, cela signifie que vous n'avez pas besoin d'envoyer de données potentiellement sensibles à une API.\n",
    "\n",
    "Du point de vue de la vitesse, cela signifie que vous n'aurez pas nécessairement à attendre une file d'attente d'API ou un temps d'arrêt ; si votre matériel est en cours d'exécution, le pipeline peut s'exécuter.\n",
    "\n",
    "Et du point de vue des coûts, fonctionner sur votre propre matériel entraîne souvent un coût de départ plus élevé, mais peu ou pas de frais par la suite.\n",
    "\n",
    "En termes de performances, les API LLM peuvent toujours fonctionner mieux qu'un modèle open source exécuté localement sur des tâches générales, mais il existe de plus en plus d'exemples de modèles plus petits et ciblés surpassant les modèles plus grands."
   ]
  },
  {
   "cell_type": "markdown",
   "metadata": {},
   "source": [
    "## Termes clés\n",
    "\n",
    "| Term | Description |\n",
    "| ----- | ----- | \n",
    "| **Jeton** | Un morceau de texte sous-mot. Par exemple, « Bonjour tout le monde ! » pourrait être divisé en [\"hello\", \",\", \"world\", \"!\"]. Un jeton peut être un mot entier,<br> une partie d'un mot ou un groupe de caractères de ponctuation. 1 jeton ~= 4 caractères en anglais, 100 jetons ~= 75 mots.<br> Le texte est divisé en jetons avant d'être transmis à un LLM. |\n",
    "| **Embedding** | Une représentation numérique apprise d’une donnée. Par exemple, une phrase de texte pourrait être représentée par un vecteur avec<br> 768 valeurs. Des morceaux de texte similaires (dans leur sens) auront idéalement des valeurs similaires. |\n",
    "| **Embedding model** | Un modèle conçu pour accepter des données d'entrée et produire une représentation numérique. Par exemple, un modèle d'incorporation de texte peut prendre 384 <br>jetons de texte et le transformer en un vecteur de taille 768. Un modèle d'incorporation peut et est souvent différent d'un modèle LLM. |\n",
    "| **Similarity search/vector search** | Similarity search/vector la recherche vise à trouver deux vecteurs proches l’un de l’autre dans un espace de haute dimension. Par exemple, deux morceaux de texte similaire transmis via un modèle d'intégration devraient avoir un score de similarité élevé, tandis que deux morceaux de texte sur<br> des sujets différents auront un score de similarité plus faible. Les mesures courantes du score de similarité sont la similarité du produit scalaire et du cosinus. |\n",
    "| **Large Language Model (LLM)** | Un modèle qui a été entraîné pour représenter numériquement les modèles dans le texte. Un LLM génératif continuera une séquence lorsqu'on lui donnera une séquence. <br>Par exemple, étant donné une séquence du texte « bonjour tout le monde ! », un LLM génératif peut produire « nous allons construire un pipeline RAG aujourd'hui ! ».<br> Cette génération sera fortement dépendante de la formation données et invite.|\n",
    "| **LLM context window** | Le nombre de jetons qu'un LLM peut accepter en entrée. Par exemple, depuis mars 2024, GPT-4 dispose d'une fenêtre contextuelle par défaut de 32 000 jetons<br> (environ 96 pages de texte), mais peut aller jusqu'à 128 000 si nécessaire. Un récent LLM open source de Google, Gemma (mars 2024) a une fenêtre contextuelle<br> de 8 192 jetons (environ 24 pages de texte). Une fenêtre de contexte plus élevée signifie qu'un LLM peut accepter des informations plus pertinentes<br> pour faciliter une requête. Par exemple, dans un pipeline RAG, si un modèle dispose d'une fenêtre contextuelle plus grande, il peut accepter davantage d'éléments de référence<br> du système de récupération pour faciliter sa génération.|\n",
    "| **Prompt** | Un terme courant pour décrire l'entrée dans un LLM génératif. L'idée de « [prompt Engineering](https://en.wikipedia.org/wiki/Prompt_engineering) » est de structurer une entrée basée sur du texte<br> (ou potentiellement également basée sur des images) dans un LLM génératif dans un manière spécifique afin que la sortie générée soit idéale. Cette technique est<br>possible grâce à la capacité d'un LLM à apprendre en contexte, car il est capable d'utiliser sa représentation du langage pour décomposer l'invite et reconnaître ce que peut être un résultat approprié (remarque : le résultat des LLM est probable, c'est pourquoi des termes tels que « peut produire » sont utilisés).| \n",
    "\n",
    "\n"
   ]
  },
  {
   "cell_type": "markdown",
   "metadata": {},
   "source": [
    "## Ce que nous allons construire\n",
    "\n",
    "Nous allons créer un pipeline RAG qui nous permet de discuter avec un document PDF, en particulier des pdfs sur les programmes des lycées au Cameroun.\n",
    "\n",
    "Vous pourriez appeler notre projet EduChat !\n",
    "\n",
    "Nous écrirons le code dans :\n",
    "1. Ouvrez un document PDF (vous pouvez utiliser presque n'importe quel PDF ici).\n",
    "2. Formatez le texte du manuel PDF pour le préparer à un modèle d'Embedding(ce processus est connu sous le nom de fractionnement/blocage de texte).\n",
    "3. Intégrez tous les morceaux de texte dans le manuel et transformez-les en représentation numérique que nous pourrons stocker pour plus tard.\n",
    "4. Créez un système de récupération qui utilise la recherche vectorielle pour trouver des morceaux de texte pertinents en fonction d'une requête.\n",
    "5. Créez une invite qui intègre les morceaux de texte récupérés.\n",
    "6. Générez une réponse à une requête basée sur des passages du manuel.\n",
    "\n",
    "Les étapes ci-dessus peuvent être divisées en deux sections principales :\n",
    "1. Prétraitement/création d'Embedidng des document (étapes 1 à 3).\n",
    "2. Recherchez et répondez (étapes 4 à 6).\n",
    "\n",
    "Et c'est la structure que nous suivrons.\n",
    "\n",
    "C'est similaire au flux de travail décrit sur le blog NVIDIA qui [détaille un pipeline RAG local](https://developer.nvidia.com/blog/rag-101-demystifying-retrieval-augmented-generation-pipelines/).\n",
    "\n",
    "<img src=\"https://github.com/mrdbourke/simple-local-rag/blob/main/images/simple-local-rag-workflow-flowchart.png?raw=true\" alt=\"organigramme d'un local Flux de travail RAG\" />"
   ]
  },
  {
   "cell_type": "markdown",
   "metadata": {},
   "source": [
    "## 1. Traitement de documents/textes et création d'Embeddings\n",
    "\n",
    "Ingrédients:\n",
    "* Document PDF au choix.\n",
    "* Modèle d'intégration au choix.\n",
    "\n",
    "Mesures:\n",
    "1. Importez un document PDF.\n",
    "2. Traitez le texte pour l'intégrer (par exemple, divisé en morceaux de phrases).\n",
    "3. Intégrez des morceaux de texte avec le modèle d'intégration.\n",
    "4. Enregistrez les intégrations dans un fichier pour une utilisation ultérieure (les intégrations seront stockées dans un fichier pendant de nombreuses années ou jusqu'à ce que vous perdiez votre disque dur)."
   ]
  },
  {
   "cell_type": "markdown",
   "metadata": {},
   "source": [
    "Importer les document PDF\n",
    "Cela fonctionnera avec de nombreux autres types de documents.\n",
    "\n",
    "Il existe plusieurs bibliothèques pour ouvrir des PDF avec Python mais j'ai trouvé que PyMuPDF fonctionne plutôt bien dans de nombreux cas.\n"
   ]
  },
  {
   "cell_type": "code",
   "execution_count": 2,
   "metadata": {},
   "outputs": [
    {
     "name": "stdout",
     "output_type": "stream",
     "text": [
      "Lecture du fichier : data/Physique-Chimie-Technologie-4ème.pdf\n"
     ]
    },
    {
     "name": "stderr",
     "output_type": "stream",
     "text": [
      "Traitement de Physique-Chimie-Technologie-4ème.pdf: 47it [00:00, 88.94it/s]\n"
     ]
    },
    {
     "name": "stdout",
     "output_type": "stream",
     "text": [
      "Lecture du fichier : data/Physics F1-F2.pdf\n"
     ]
    },
    {
     "name": "stderr",
     "output_type": "stream",
     "text": [
      "Traitement de Physics F1-F2.pdf: 38it [00:01, 23.83it/s]\n"
     ]
    },
    {
     "name": "stdout",
     "output_type": "stream",
     "text": [
      "Lecture du fichier : data/Biology Form 3-4-5.pdf\n"
     ]
    },
    {
     "name": "stderr",
     "output_type": "stream",
     "text": [
      "Traitement de Biology Form 3-4-5.pdf: 55it [00:01, 49.11it/s]\n"
     ]
    },
    {
     "name": "stdout",
     "output_type": "stream",
     "text": [
      "Lecture du fichier : data/ANGLAIS 2de.pdf\n"
     ]
    },
    {
     "name": "stderr",
     "output_type": "stream",
     "text": [
      "Traitement de ANGLAIS 2de.pdf: 33it [00:00, 66.74it/s]\n"
     ]
    },
    {
     "name": "stdout",
     "output_type": "stream",
     "text": [
      "Lecture du fichier : data/liste-manuels-scolaires-MINESEC-ESG2024-2025.pdf\n"
     ]
    },
    {
     "name": "stderr",
     "output_type": "stream",
     "text": [
      "Traitement de liste-manuels-scolaires-MINESEC-ESG2024-2025.pdf: 6it [00:00, 247.36it/s]\n"
     ]
    },
    {
     "name": "stdout",
     "output_type": "stream",
     "text": [
      "Lecture du fichier : data/Maths 6è,5è,4è,3è.pdf\n"
     ]
    },
    {
     "name": "stderr",
     "output_type": "stream",
     "text": [
      "Traitement de Maths 6è,5è,4è,3è.pdf: 84it [00:01, 44.81it/s]\n"
     ]
    },
    {
     "name": "stdout",
     "output_type": "stream",
     "text": [
      "Lecture du fichier : data/GEOLOGY F3 & 4.pdf\n"
     ]
    },
    {
     "name": "stderr",
     "output_type": "stream",
     "text": [
      "Traitement de GEOLOGY F3 & 4.pdf: 39it [00:00, 40.06it/s]\n"
     ]
    },
    {
     "name": "stdout",
     "output_type": "stream",
     "text": [
      "Lecture du fichier : data/Mathematics 1-2.pdf\n"
     ]
    },
    {
     "name": "stderr",
     "output_type": "stream",
     "text": [
      "Traitement de Mathematics 1-2.pdf: 49it [00:00, 55.71it/s]\n"
     ]
    },
    {
     "name": "stdout",
     "output_type": "stream",
     "text": [
      "Lecture du fichier : data/Physique-Chimique-Technologie 3eme .pdf\n"
     ]
    },
    {
     "name": "stderr",
     "output_type": "stream",
     "text": [
      "Traitement de Physique-Chimique-Technologie 3eme .pdf: 38it [00:00, 40.48it/s]\n"
     ]
    },
    {
     "name": "stdout",
     "output_type": "stream",
     "text": [
      "Lecture du fichier : data/Physique 2de C.pdf\n"
     ]
    },
    {
     "name": "stderr",
     "output_type": "stream",
     "text": [
      "Traitement de Physique 2de C.pdf: 14it [00:00, 24.94it/s]\n"
     ]
    },
    {
     "name": "stdout",
     "output_type": "stream",
     "text": [
      "Lecture du fichier : data/Biology Form1 -2.pdf\n"
     ]
    },
    {
     "name": "stderr",
     "output_type": "stream",
     "text": [
      "Traitement de Biology Form1 -2.pdf: 44it [00:00, 66.28it/s]\n"
     ]
    },
    {
     "name": "stdout",
     "output_type": "stream",
     "text": [
      "Lecture du fichier : data/BIO-CHEM-PHY-F1-F2.pdf\n"
     ]
    },
    {
     "name": "stderr",
     "output_type": "stream",
     "text": [
      "Traitement de BIO-CHEM-PHY-F1-F2.pdf: 35it [00:01, 33.17it/s]\n"
     ]
    },
    {
     "name": "stdout",
     "output_type": "stream",
     "text": [
      "Lecture du fichier : data/Math Form 3,4 and 5.pdf\n"
     ]
    },
    {
     "name": "stderr",
     "output_type": "stream",
     "text": [
      "Traitement de Math Form 3,4 and 5.pdf: 78it [00:01, 49.12it/s]\n"
     ]
    },
    {
     "name": "stdout",
     "output_type": "stream",
     "text": [
      "Lecture du fichier : data/SBEP 2de.pdf\n"
     ]
    },
    {
     "name": "stderr",
     "output_type": "stream",
     "text": [
      "Traitement de SBEP 2de.pdf: 42it [00:00, 64.75it/s]\n"
     ]
    },
    {
     "name": "stdout",
     "output_type": "stream",
     "text": [
      "Lecture du fichier : data/official-Books-List-MINESEC-GSE2024-2025.pdf\n"
     ]
    },
    {
     "name": "stderr",
     "output_type": "stream",
     "text": [
      "Traitement de official-Books-List-MINESEC-GSE2024-2025.pdf: 6it [00:00, 1594.09it/s]\n"
     ]
    },
    {
     "name": "stdout",
     "output_type": "stream",
     "text": [
      "Lecture du fichier : data/Histoire 4ème et 3ème.pdf\n"
     ]
    },
    {
     "name": "stderr",
     "output_type": "stream",
     "text": [
      "Traitement de Histoire 4ème et 3ème.pdf: 54it [00:00, 56.69it/s]\n"
     ]
    },
    {
     "name": "stdout",
     "output_type": "stream",
     "text": [
      "Lecture du fichier : data/HISTOIRE 6e 5e ESG.pdf\n"
     ]
    },
    {
     "name": "stderr",
     "output_type": "stream",
     "text": [
      "Traitement de HISTOIRE 6e 5e ESG.pdf: 62it [00:01, 37.95it/s]\n"
     ]
    },
    {
     "name": "stdout",
     "output_type": "stream",
     "text": [
      "Lecture du fichier : data/Informatique 6e-Tle.pdf\n"
     ]
    },
    {
     "name": "stderr",
     "output_type": "stream",
     "text": [
      "Traitement de Informatique 6e-Tle.pdf: 91it [00:01, 65.54it/s]\n"
     ]
    },
    {
     "name": "stdout",
     "output_type": "stream",
     "text": [
      "Lecture du fichier : data/GEOGRAPHIE 6e 5e ESG.pdf\n"
     ]
    },
    {
     "name": "stderr",
     "output_type": "stream",
     "text": [
      "Traitement de GEOGRAPHIE 6e 5e ESG.pdf: 53it [00:00, 55.15it/s]\n"
     ]
    },
    {
     "name": "stdout",
     "output_type": "stream",
     "text": [
      "Lecture du fichier : data/Computer F3,4 and 5.pdf\n"
     ]
    },
    {
     "name": "stderr",
     "output_type": "stream",
     "text": [
      "Traitement de Computer F3,4 and 5.pdf: 40it [00:00, 51.82it/s]\n"
     ]
    },
    {
     "name": "stdout",
     "output_type": "stream",
     "text": [
      "Lecture du fichier : data/Chemistry Form 3,4,5.pdf\n"
     ]
    },
    {
     "name": "stderr",
     "output_type": "stream",
     "text": [
      "Traitement de Chemistry Form 3,4,5.pdf: 49it [00:01, 36.18it/s]\n"
     ]
    },
    {
     "name": "stdout",
     "output_type": "stream",
     "text": [
      "Lecture du fichier : data/ANGLAIS SBEP 4e.pdf\n"
     ]
    },
    {
     "name": "stderr",
     "output_type": "stream",
     "text": [
      "Traitement de ANGLAIS SBEP 4e.pdf: 69it [00:01, 57.70it/s]\n"
     ]
    },
    {
     "name": "stdout",
     "output_type": "stream",
     "text": [
      "Lecture du fichier : data/Chimie 2deC.pdf\n"
     ]
    },
    {
     "name": "stderr",
     "output_type": "stream",
     "text": [
      "Traitement de Chimie 2deC.pdf: 35it [00:00, 37.84it/s]\n"
     ]
    },
    {
     "name": "stdout",
     "output_type": "stream",
     "text": [
      "Lecture du fichier : data/Physics Form 3,4 and 5.pdf\n"
     ]
    },
    {
     "name": "stderr",
     "output_type": "stream",
     "text": [
      "Traitement de Physics Form 3,4 and 5.pdf: 58it [00:00, 65.95it/s]\n"
     ]
    },
    {
     "name": "stdout",
     "output_type": "stream",
     "text": [
      "Lecture du fichier : data/HISTOIRE Tle-ESG.pdf\n"
     ]
    },
    {
     "name": "stderr",
     "output_type": "stream",
     "text": [
      "Traitement de HISTOIRE Tle-ESG.pdf: 18it [00:00, 38.08it/s]\n"
     ]
    },
    {
     "name": "stdout",
     "output_type": "stream",
     "text": [
      "Lecture du fichier : data/HISTOIRE Tle-EST.pdf\n"
     ]
    },
    {
     "name": "stderr",
     "output_type": "stream",
     "text": [
      "Traitement de HISTOIRE Tle-EST.pdf: 16it [00:00, 59.90it/s]\n"
     ]
    },
    {
     "name": "stdout",
     "output_type": "stream",
     "text": [
      "Lecture du fichier : data/Sciences 6e-5e.pdf\n"
     ]
    },
    {
     "name": "stderr",
     "output_type": "stream",
     "text": [
      "Traitement de Sciences 6e-5e.pdf: 36it [00:00, 66.74it/s]\n"
     ]
    },
    {
     "name": "stdout",
     "output_type": "stream",
     "text": [
      "Lecture du fichier : data/Litterature_US-LS.pdf\n"
     ]
    },
    {
     "name": "stderr",
     "output_type": "stream",
     "text": [
      "Traitement de Litterature_US-LS.pdf: 30it [00:01, 21.25it/s]\n"
     ]
    },
    {
     "name": "stdout",
     "output_type": "stream",
     "text": [
      "Lecture du fichier : data/litterature en anglais 2nd.pdf\n"
     ]
    },
    {
     "name": "stderr",
     "output_type": "stream",
     "text": [
      "Traitement de litterature en anglais 2nd.pdf: 30it [00:00, 41.26it/s]\n"
     ]
    },
    {
     "name": "stdout",
     "output_type": "stream",
     "text": [
      "Lecture du fichier : data/GEO Tle-ESG.pdf\n"
     ]
    },
    {
     "name": "stderr",
     "output_type": "stream",
     "text": [
      "Traitement de GEO Tle-ESG.pdf: 18it [00:00, 35.47it/s]\n"
     ]
    },
    {
     "name": "stdout",
     "output_type": "stream",
     "text": [
      "Lecture du fichier : data/ANGLAIS Year 3,4 Tech.pdf\n"
     ]
    },
    {
     "name": "stderr",
     "output_type": "stream",
     "text": [
      "Traitement de ANGLAIS Year 3,4 Tech.pdf: 69it [00:01, 57.60it/s]\n"
     ]
    },
    {
     "name": "stdout",
     "output_type": "stream",
     "text": [
      "Lecture du fichier : data/Géographie 4è,3è.pdf\n"
     ]
    },
    {
     "name": "stderr",
     "output_type": "stream",
     "text": [
      "Traitement de Géographie 4è,3è.pdf: 60it [00:00, 88.80it/s] \n"
     ]
    },
    {
     "name": "stdout",
     "output_type": "stream",
     "text": [
      "Lecture du fichier : data/FRENCH AS SECOND LANGUAGE Form 3,  4 et 5 .pdf\n"
     ]
    },
    {
     "name": "stderr",
     "output_type": "stream",
     "text": [
      "Traitement de FRENCH AS SECOND LANGUAGE Form 3,  4 et 5 .pdf: 69it [00:01, 54.03it/s]\n"
     ]
    },
    {
     "name": "stdout",
     "output_type": "stream",
     "text": [
      "Lecture du fichier : data/ECM 6E 5E ESG.pdf\n"
     ]
    },
    {
     "name": "stderr",
     "output_type": "stream",
     "text": [
      "Traitement de ECM 6E 5E ESG.pdf: 55it [00:01, 37.64it/s]\n"
     ]
    },
    {
     "name": "stdout",
     "output_type": "stream",
     "text": [
      "Lecture du fichier : data/Computer Form1-2.pdf\n"
     ]
    },
    {
     "name": "stderr",
     "output_type": "stream",
     "text": [
      "Traitement de Computer Form1-2.pdf: 30it [00:00, 64.48it/s]\n"
     ]
    },
    {
     "name": "stdout",
     "output_type": "stream",
     "text": [
      "Lecture du fichier : data/Francais 4e-3e.pdf\n"
     ]
    },
    {
     "name": "stderr",
     "output_type": "stream",
     "text": [
      "Traitement de Francais 4e-3e.pdf: 66it [00:01, 51.35it/s]\n"
     ]
    },
    {
     "name": "stdout",
     "output_type": "stream",
     "text": [
      "Lecture du fichier : data/Education artistique 4e 3e.pdf\n"
     ]
    },
    {
     "name": "stderr",
     "output_type": "stream",
     "text": [
      "Traitement de Education artistique 4e 3e.pdf: 36it [00:00, 71.79it/s]\n"
     ]
    },
    {
     "name": "stdout",
     "output_type": "stream",
     "text": [
      "Lecture du fichier : data/ECM 4ème,3ème.pdf\n"
     ]
    },
    {
     "name": "stderr",
     "output_type": "stream",
     "text": [
      "Traitement de ECM 4ème,3ème.pdf: 48it [00:00, 74.90it/s]\n"
     ]
    },
    {
     "name": "stdout",
     "output_type": "stream",
     "text": [
      "Lecture du fichier : data/ANGLAIS 4e ESG .pdf\n"
     ]
    },
    {
     "name": "stderr",
     "output_type": "stream",
     "text": [
      "Traitement de ANGLAIS 4e ESG .pdf: 62it [00:01, 35.75it/s]\n"
     ]
    },
    {
     "name": "stdout",
     "output_type": "stream",
     "text": [
      "\n",
      "--- Physique-Chimie-Technologie-4ème.pdf ---\n",
      "Page 1 :\n",
      "Page 1 sur 47      DOMAINE D’APPRENTISSAGE : SCIENCES ET TECHNOLOGIE  PROGRAMME D’ÉTUDES : PHYSIQUE-CHIMIE-TECHNOLOGIE  NIVEAU : QUATRIEME  VOLUMES HORAIRES :  VOLUME HORAIRE ANNUEL : 75 HEURES  VOLUME HORAIRE HEBDOMADAIRE : 03 HEURES  COEFFICIENT : 03\n",
      "\n",
      "\n",
      "Page 2 :\n",
      "Page 2 sur 47      MODULE 1 : LA MATIÈRE : SES PROPRIÉTES ET SES TRANSFORMATIONS   VOLUME HORAIRE ALLOUÉ AU MODULE : 18 HEURES   PRESENTATION DU MODULE   Ce module comporte trois (03) parties :   ➢ Les propriétés et les caractéristiques de la matière ;   ➢ Les aimants, le champ magnétique terrestre ;   ➢ La notion de réaction chimique et d’élément.   Catégories d’actions :  -Détermination des propriétés caractéristiques de la matière   -Réalisation des transformations chimiques   -Détermination des caractéristiques physiques et chimiques d’un corps     Situation problème :   Les objets qui nous entourent ont des propriétés différentes. Certains peuvent quitter de l’état liquide au solide, d’autres conduisent le  courant électrique et quelques-uns attirent les objets en fer. Il existe aussi des objets qui résistent plus longtemps au temps que  d’autres.  Questions :  1- Faites correspondre chacun des mots suivants aux éléments clés que vous retrouvez dans le texte : Aimant, Fer, aliments secs et  l’eau\n",
      "\n",
      "\n",
      "\n",
      "--- Physics F1-F2.pdf ---\n",
      "Page 1 :\n",
      "AUGUST 2014      REPUBLIQUE DU CAMEROUN  Paix – Travail – Patrie      REPUBLIC OF CAMEROON  Peace – Work - Fatherland      MINISTERE DES ENSEIGNEMENTS SECONDAIRES  MINISTRY OF SECONDARY EDUCATION            INSPECTION GENERALE DES ENSEIGNEMENTS  INSPECTORATE GENERAL OF EDUCATION                                                                  Observer son environnement  pour mieux orienter ses choix de formation et réussir sa vie      INSPECTION DE PEDAGOGIE CHARGEE DE L’ENSEIGNEMENT DESSCIENCES  INSPECTORATE OF PEDAGOGY IN CHARGE OF SCIENCES Août 2014            PHYSICS TEACHING SYLLABUS  Form1 and Form 2\n",
      "\n",
      "\n",
      "Page 2 :\n",
      "PHYSICS TEACHING SYLLABUS FOR THE FIRST CYCLE: FORM 1 and FORM 2  Page 2\n",
      "\n",
      "\n",
      "\n",
      "--- Biology Form 3-4-5.pdf ---\n",
      "Page 1 :\n",
      "REPUBLIQUE DU CAMEROUN  Paix – Travail – Patrie      REPUBLIC OF CAMEROON  Peace – Work - Fatherland      MINISTERE DES ENSEIGNEMENTS SECONDAIRES  MINISTRY OF SECONDARY EDUCATION            INSPECTION GENERALE DES ENSEIGNEMENTS  INSPECTORATE GENERAL OF EDUCATION                                                            Observer son environnement  pour mieux orienter ses choix de formation et réussir sa vie      INSPECTION DE PEDAGOGIE CHARGEE DE L’ENSEIGNEMENT DESSCIENCES  INSPECTORATE OF PEDAGOGY IN CHARGE OF SCIENCES                                                                                             December 2014        BIOLOGY SYLLABUS   Forms 3, 4 and 5\n",
      "\n",
      "\n",
      "Page 2 :\n",
      "2\n",
      "\n",
      "\n",
      "\n",
      "--- ANGLAIS 2de.pdf ---\n",
      "Page 1 :\n",
      "][ANGLAIS]    Programme of Study (Anglais): 2nde Page 1    MINISTRY OF SECONDARY EDUCATION  INSPECTORATE GENERAL OF EDUCATION                                                    2018          REPUBLIQUE DU CAMEROUN  Paix-Travail-Patrie  **********  MINISTERE DES ENSEIGNEMENTS SECONDAIRES  **********  INSPECTION GENERALE DES ENSEIGNEMENTS  **********        REPUBLICOFCAMEROON  Peace-Work-Fatherland  **********  MINISTRY OF SECONDARY EDUCATION  **********  INSPECTORATE GENERAL OF EDUCATION  **********      PROGRAMME OF STUDY:   ENGLISH TO FRANCOPHONES  General Secondary Education  SECONDE (2nde)\n",
      "\n",
      "\n",
      "Page 2 :\n",
      "][ANGLAIS]    Programme of Study (Anglais): 2nde Page 2    REPUBLIQUE DU CAMEROUN  Paix – Travail- Patrie                                        ----------   MINISTERE DES ENSEIGNEMENTS SECONDAIRES  ----------  SECRETARIAT GENERAL  -----------    REPUBLIC   OF CAMEROON  Peace -Work -Fatherland  ----------  MINISTRY OF SECONDARY EDUCATION  ----------  GENERAL SECRETARIAT  -----------  INSPECTION GENERALE DES ENSEIGNEMENTS  ----------    INSPECTORATE GENERAL OF EDUCATION  ----------  INSPECTION GENERALE DE PEDAGOGIE CHARGEE  DE L’ENSEIGNEMENT ET DE LA PROMOTION DU  BILINGUISME  ----------    INSPECTORATE OF PEDAGOGY IN CHARGE OF  TEACHING AND PROMOTION OF BILINGUALISM  ----------    Order N° ____________________     /MINESEC/IGS/IGE _________________  to outline the syllabus for Seconde (2nde) classes of Secondary General Education.  THE MINISTER OF SECONDARY EDUCATION,    Mindful of the Constitution;  Mindful of Law No 98/004 of 14 April, 1998 to lay down Guidelines for Education in Cameroon;  Mindful of Decree N° 2018/191 of 2 March, 2018 reorganise the Government;   Mindful of Decree N° 2018/191 of 2 March, 2018 to form the Government;   Mindful of Decree N° 2012/267 of 11 June, 2012 to organise the Ministry of Secondary Education;     HEREBY ORDERS AS FOLLOWS:    Article 1: The syllabus for 2nde classes of Secondary General Education shall be outlined as follows:\n",
      "\n",
      "\n",
      "\n",
      "--- liste-manuels-scolaires-MINESEC-ESG2024-2025.pdf ---\n",
      "Page 1 :\n",
      "\n",
      "\n",
      "\n",
      "Page 2 :\n",
      "\n",
      "\n",
      "\n",
      "\n",
      "--- Maths 6è,5è,4è,3è.pdf ---\n",
      "Page 1 :\n",
      "Page 1 sur 84      REPUBLIQUE DU CAMEROUN                           REPUBLIC OF CAMEROON                  Paix – Travail – Patrie                                     Peace – Work - Fatherland      MINISTERE DES ENSEIGNEMENTS SECONDAIRES  MINISTRY OF SECONDARY EDUCATION  INSPECTION GENERALE DES ENSEIGNEMENTS  INSPECTORATE GENERAL OF EDUCATION  INSPECTION DE PEDAGOGIE CHARGEE DE L’ENSEIGNEMENT DES SCIENCES            INSPECTORATE OF PEDAGOGY IN CHARGE OF SCIENCES            Observer son environnement  pour mieux orienter ses choix de formation et réussir sa vie                                             Mars 2023  PROGRAMMES D’ETUDES DE 6e, 5e, 4e et 3e : MATHEMATIQUES\n",
      "\n",
      "\n",
      "Page 2 :\n",
      "Page 2 sur 84\n",
      "\n",
      "\n",
      "\n",
      "--- GEOLOGY F3 & 4.pdf ---\n",
      "Page 1 :\n",
      "REPUBLIQUE DU CAMEROUN  Paix – Travail – Patrie      REPUBLIC OF CAMEROON  Peace – Work - Fatherland      MINISTERE DES ENSEIGNEMENTS SECONDAIRES  MINISTRY OF SECONDARY EDUCATION            INSPECTION GENERALE DES ENSEIGNEMENTS  INSPECTORATE GENERAL OF EDUCATION                                                          Observer son environnement  pour mieux orienter ses choix de formation et réussir sa vie      INSPECTION DE PEDAGOGIE CHARGEE DE L’ENSEIGNEMENT DES SCIENCES  INSPECTORATE OF PEDAGOGY IN CHARGE OF SCIENCES                                                                                                      December 2014        GEOLOGY SYLLABUS   Forms 4 and 5\n",
      "\n",
      "\n",
      "Page 2 :\n",
      "2\n",
      "\n",
      "\n",
      "\n",
      "--- Mathematics 1-2.pdf ---\n",
      "Page 1 :\n",
      "REPUBLIQUE DU CAMEROUN  Paix – Travail – Patrie               REPUBLIC OF CAMEROON                     Peace – Work - Fatherland    MINISTERE DES ENSEIGNEMENTS SECONDAIRES  MINISTRY OF SECONDARY EDUCATION        INSPECTION GENERALE DES ENSEIGNEMENTS  INSPECTORATE GENERAL OF EDUCATION                                                  Observer son environnement  pour mieux orienter ses choix de formation et réussir sa vie      INSPECTION DE PEDAGOGIE CHARGEE DE L’ENSEIGNEMENT DESSCIENCES  INSPECTORATE OF PEDAGOGY IN CHARGE OF SCIENCES Août 2014         MATHEMATICS TEACHING SYLLABUS  FORM 1 and FORM 2\n",
      "\n",
      "\n",
      "Page 2 :\n",
      "MATHEMATICS TEACHING SYLLABUS FOR FORM 1 AND FORM 2 :       CAMEROON                                                                                                           Page 1 / 49\n",
      "\n",
      "\n",
      "\n",
      "--- Physique-Chimique-Technologie 3eme .pdf ---\n",
      "Page 1 :\n",
      "[Date]      DEPARTEMENT DE PCT CLASSE 3ème  1  MODULE 1 :LA MATIERE ,SES PROPRIETES ET  SES TRANSFORMATIONS  UNITE 1                                                                                                        Objectifs  -  Définir : Atome ; Molécule et Ion.  -  Décrire  la structure de  l’atome, de quelques molécules et   connaître les symboles de  quelques atomes.    I  –    ACTIVITES  I – Activité 1 : Observation et exploitation des documents 1 et 2 P6  du livre : Collection DEWATEK  II   -   L’ATOME  II.1 – Définition, structure et charge électrique d’un atome         L’atome est la plus petite particule élémentaire de la matière.  Un atome est formé de :  -  un noyau chargé positivement  -   un nuage ou cortège électronique (ensemble des électrons  qui   gravitent autour du noyau) chargé négativement.   Dans un atome, la somme des charges   positives du noyau est toujours égale à  la somme des charges négatives du   nuage électronique : l’atome est donc  électriquement neutre  Le nombre de charges ou numéro   atomique Z est le nombre d’électrons  contenus  dans un atome.  NB : Les atomes sont assimilables à des boules. Le diamètre du noyau  de l’atome est de l’ordre de 10-15m et celui de l’atome de  l’ordre de  10-10m  Фatome ≈ 105 Фnoyau.  matome ≈ mnoyau = 10-27kg ;  matome ≈ 1800 mélectron  Tips : Donner les noms et symboles  de quelques atomes. Tableau P8    III – LES MOLECULES  III.1 – Définition et représentation        Une molécule est un assemblage ordonné, électriquement neutre  d’atomes liés par des liaisons covalentes.  On peut représenter une molécule par :  -  Une formule brute ou formule moléculaire en utilisant les   Symboles des atomes qui la constituent avec en indice le nombre de  chaque atome.  CXHYOZ …  -  Des modèles moléculaires (compactes ou éclatés)  Liaison covalente : liaison établie entre deux atomes d’une molécule.  Molécule mono atomique : molécule formée d’atomes identiques. O2 ;  H2   Molécule poly atomique : molécule formée d’atomes différents. CO2 ;  H2O  Tips : Donner les formules brutes et les noms de quelques molécules en  expliquant. Exercices 4 et 5 P11    IV – LES IONS  IV.1 – Définition et différents types d’ions  Un ion est atome ou molécule ayant gagné ou perdu au moins un  électron  On distingue deux types d’ions:  -  Les cations ou ions positifs: atomes ou molécules ayant perdu  au   moins un électron:  Ca2+ ;  H3O+ ;  Al3+ …  -  Les anions ou ions négatifs: atomes ou molécules ayant gagné  au   moins un électrons:  Cl- ;  SO42- ;  O2- …    LES CONSTITUANTS DE LA MATIERE  noyau(+)     nuage électronique(-)  Structure de l’atome\n",
      "\n",
      "\n",
      "Page 2 :\n",
      " \u0006   …    III – LE TABLEAU DE CLASSIFICATION PERIODIQUE      Le Tableau de Classification Périodique des Eléments TCPE est un  tableau comportant  7 liges ou périodes  et  18 colonnes ou groupes ou  encore familles. Il regroupe tous les éléments chimiques connus.     III.1 – Règle de classification périodique       Dans le TCPE, les éléments sont classés de la gauche vers la droite  par ordre croissant de leur numéro atomique Z, chaque élément  occupant une seule case. Tous les éléments d’une même colonne  possèdent des propriétés chimiques semblables : ils constituent donc  une famille d’éléments.     III.2  – Utilisation du TCPE        Le TCPE permet de :  -  Identifier le symbole d’un élément chimique  X  -  Identifier son numéro atomique Z et sa masse molaire M  (g/mol)  -  Situer  un élément  connaissant son Z ie indiquer la période  (ligne)   et  la famille (colonne) auxquelles appartient cet élément.   Tips : Situer quelques éléments :  Al ;  C ;  Cl …                                                                                             symbole X  numéro  atomique                                                                      nom de l’élément X                                              Aluminium                                                M = 27 g/mol                   masse molaire    CLASSIFICATION PERIODIQUE DES ELEMENTS  \u0003\u0004 \u0005\n",
      "\n",
      "\n",
      "\n",
      "--- Physique 2de C.pdf ---\n",
      "Page 1 :\n",
      "Programmes de physique de l’enseignement secondaire général – Classe de seconde C  Page 1/14  RÉPUBLIQUE DU CAMEROUN  Paix – Travail – Patrie  ----------------    REPUBLIC OF CAMEROON  Peace - Work - Fatherland  ----------------  MINISTÈRE DES ENSEIGNEMENTS SECONDAIRES  ----------------    MINISTRY OF SECONDARY EDUCATION  ----------------  INSPECTION GÉNÉRALE DES ENSEIGNEMENTS  ----------------    INSPECTORATE GENERAL OF EDUCATION  -----------------  INSPECTION DE PÉDAGOGIE / SCIENCES  ----------------    INSPECTORATE OF PEDAGOGY / SCIENCES  ----------------      DOMAINE D’APPRENTISSAGE : SCIENCES ET TECHNOLOGIE  PROGRAMME D’ÉTUDE : PHYSIQUE  NIVEAU : 2nde C  VOLUME HORAIRE ANNUEL : 72 Heures  VOLUME HORAIRE HEBDOMADAIRE : 03 HEURES  COEFFICIENT : 03\n",
      "\n",
      "\n",
      "Page 2 :\n",
      "Programmes de physique de l’enseignement secondaire général – Classe de seconde C  Page 2/14  1. PRÉSENTATION GÉNÉRALE DU PROGRAMME D’ÉTUDE  Les nouveaux programmes de physique visent à donner aux élèves du cycle secondaire la possibilité de développer leur culture scientifique et leurs compétences dans un  environnement où ils seront de plus en plus amenés à faire des choix dans les situations où ils seront engagés ou qui engagent leur environnement. Il vise aussi, à les familiariser  avec la méthode scientifique d’une façon accessible et simple, à travers le travail en groupe et l’expérimentation. Il permettra, d’une part, une bonne assimilation des concepts de  physique liés à des applications technologiques ou à des phénomènes  de la vie quotidienne, à la santé et à l’environnement.   La classe de seconde C étant commune à tous les élèves des filières scientifiques, le programme tient compte des difficultés de certains élèves à utiliser le formalisme mathématique  tout en fournissant des bases solides à ceux qui continueront leurs études dans des filières où la physique et la chimie sont dominantes.  Ce programme qui est dans le prolongement de celui du premier cycle et une pseudo-transposition des contenus de l’Arrêté N° 24/D/80/MINEDUC/IGP/ESG du 11/09/00 qu’il  complète sur certains aspects. Il ambitionne de permettre à l’enseignant de mieux jouer son rôle de facilitateur auprès de l’apprenant qui est amené de plus en plus à mieux utiliser  et capitaliser les acquis des outils construits en classe. Ce programme a pour but principal de faciliter un ancrage des connaissances devant permettre à l’apprenant de développer  des compétences lui permettant :  -  de communiquer à l’écrit et à l’oral sur des phénomènes physiques de leur environnement ;  -  de résoudre les problèmes que ces derniers posent dans leurs domaines de vie ;  -  de sauvegarder et gérer durablement leur environnement ;  -  de mettre en œuvre des processus d’acquisition des connaissances ;  -  d’implémenter la démarche scientifique et à la démarche technologique ;  Le programme d’étude de physique comporte quatre (04) modules, répartis comme suit :  N°  INTITULE DU MODULE  DURÉE  1  Mesures et incertitudes  9 heures  2  Mouvements et interactions mécaniques  18 heures  3  Propagation rectiligne de la lumière  21 heures  4  Résistors, diodes, transistors bipolaires et portes logiques  24 heures  2. SITUATION DU PROGRAMME D’ÉTUDE DANS LE CURRICULUM  Le développement des compétences scientifiques et technologiques deviennent de nos jours nécessaires à tous les citoyens en général et aux jeunes en particulier Il permet de  conduire les ruptures, changements et sauts qualitatifs dont l’économie camerounaise a besoin pour fonder son essor sur le savoir et l’innovation.  Fort de ce constat, le curriculum de l’enseignement secondaire camerounais accorde à l’étude de la discipline physique un volume horaire hebdomadaire de trois (03) heures pour  un coefficient de trois (3) au niveau des classes de Seconde C. Ce programme se fera en soixante-douze (72) heures en une année scolaire.  3. CONTRIBUTION DU PROGRAMME D’ÉTUDE AU DOMAINE D’APPRENTISSAGE  Dans une perspective de formation intégrée, il est difficile de dissocier les apprentissages effectués en physique et ceux des autres disciplines du même domaine d'apprentissage.  La physique se présente comme le champ d'expérimentation et d’application des résultats théoriques obtenus en mathématiques et en informatique.  Toute discipline scolaire a sa raison d'être essentiellement par sa manière de concevoir le réel et d'y intervenir, voire par son regard particulier qu'elle porte sur le monde. Pour son  fonctionnement, elle a besoin d'éclairages complémentaires qui peuvent être apportés par d'autres disciplines. Toutefois, elle peut à son tour éclairer ces dernières. Donc, il n'est  pas question de dissocier les apprentissages à réaliser en physique de ceux effectués ailleurs, non seulement dans les disciplines du domaine des sciences mais plutôt dans toutes  les disciplines scolaires.\n",
      "\n",
      "\n",
      "\n",
      "--- Biology Form1 -2.pdf ---\n",
      "Page 1 :\n",
      "REPUBLIQUE DU CAMEROUN  Paix – Travail – Patrie      REPUBLIC OF CAMEROON  Peace – Work - Fatherland      MINISTERE DES ENSEIGNEMENTS SECONDAIRES  MINISTRY OF SECONDARY EDUCATION            INSPECTION GENERALE DES ENSEIGNEMENTS  INSPECTORATE GENERAL OF EDUCATION                                                                  Observer son environnement  pour mieux orienter ses choix de formation et réussir sa vie      INSPECTION DE PEDAGOGIE CHARGEE DE L’ENSEIGNEMENT DESSCIENCES  INSPECTORATE OF PEDAGOGY IN CHARGE OF SCIENCES Août 2014        BIOLOGY SYLLABUS   Form1 and Form 2\n",
      "\n",
      "\n",
      "Page 2 :\n",
      "2\n",
      "\n",
      "\n",
      "\n",
      "--- BIO-CHEM-PHY-F1-F2.pdf ---\n",
      "Page 1 :\n",
      "Page 1 of 35      BIOLOGY, CHEMISTRY AND PHYSICS  TEACHING SYLLABUSES  FIRST CYCLE: FORM 1 AND FORM 2    A guide for teachers\n",
      "\n",
      "\n",
      "Page 2 :\n",
      "Page 2 of 35    TABLE OF CONTENTS  1.  GENERAL INTRODUCTION TO THE SCIENCE AND TECHNOLOGY  PROGRAMME ............... 4  1.1.  Note to the reader ................................................................................................................................... 4  1.2.  Aim of the programme ........................................................................................................................... 4  1.3.  Specific objectives ................................................................................................................................... 4  1.4.  Why Science and Technology? .............................................................................................................. 5  1.5.  The legal/policy framework ................................................................................................................... 5  2.  RELATIONSHIP WITH OTHER AREAS OF LEARNING..................................................................... 6  2.1.  With the Curriculum .............................................................................................................................. 6  2.2.  With other domains of learning ............................................................................................................. 6  2.2.1.  Language and Literature ............................................................................................................... 6  2.2.2.  Human and Social Sciences ............................................................................................................ 6  2.2.3.  Art and National Culture ............................................................................................................... 6  3.  COMPETENCIES TO DEVELOP AND APPROPRIATE AT THIS LEVEL ........................................ 8  3.1.  Core competencies for lifelong learning ............................................................................................... 8  3.2.  Transversal and disciplinary competencies .......................................................................................... 9  4.  ROLE OF EDUCATION STAKEHOLDERS IN THE IMPLEMENTATION OF THE  COMPETENCY-BASED APPROACH ............................................................................................................. 11  4.1.  Role of the teacher in facilitating learning ......................................................................................... 11  4.2.  Role of the learner................................................................................................................................. 12  4.3.  Role of the parents ................................................................................................................................ 13  4.3.1.  Accompanying the children in their learning ............................................................................. 13  4.3.2.  Making the home a comfortable learning place ......................................................................... 13  4.3.3.  Making the home a crucible for culture incubation, and social interaction ............................ 13\n",
      "\n",
      "\n",
      "\n",
      "--- Math Form 3,4 and 5.pdf ---\n",
      "Page 1 :\n",
      "MATHEMATICS TEACHING SYLLABUS FOR FORMS 3,  4 AND  5  :  CAMEROON                                                     Page 1 / 78      REPUBLIQUE DU CAMEROUN  Paix – Travail – Patrie               REPUBLIC OF CAMEROON                     Peace – Work - Fatherland      MINISTERE DES ENSEIGNEMENTS SECONDAIRES  MINISTRY OF SECONDARY EDUCATION            INSPECTION GENERALE DES ENSEIGNEMENTS  INSPECTORATE GENERAL OF EDUCATION                                                        Observer son environnement  pour mieux orienter ses choix de formation et réussir sa vie    INSPECTION DE PEDAGOGIE CHARGEE DE L’ENSEIGNEMENT DES SCIENCES  INSPECTORATE OF PEDAGOGY IN CHARGE OF SCIENCES                                                                                                                                             December 2014        MATHEMATICS TEACHING SYLLABUS  FORMS 3, 4 AND 5\n",
      "\n",
      "\n",
      "Page 2 :\n",
      "MATHEMATICS TEACHING SYLLABUS FOR FORMS 3,  4 AND  5  :  CAMEROON                                                     Page 2 / 78\n",
      "\n",
      "\n",
      "\n",
      "--- SBEP 2de.pdf ---\n",
      "Page 1 :\n",
      "2018     [BILINGUISME (INTENSIVE ENGLISH)]                Programme of Study (SBEP -Intensive English): 2nde   Page 1      REPUBLIQUE DU CAMEROUN  Paix-Travail-Patrie  **********  MINISTERE DES ENSEIGNEMENTS SECONDAIRES  **********  INSPECTION GENERALE DES ENSEIGNEMENTS  **********      REPUBLIC OF CAMEROON  Peace-Work-Fatherland  **********  MINISTRY OF SECONDARY EDUCATION  **********  INSPECTORATE GENERAL OF EDUCATION  **********        MINISTRY OF SECONDARY EDUCATION  INSPECTORATE GENERAL OF EDUCATION                                                                                                                                                                                                                                                                                                                                                                                                                                                                                                       2018          PROGRAMME OF STUDY: SPECIAL BILINGUAL EDUCATION PROGRAMME (SBEP)  GENERAL SECONDARY EDUCATION  (INTENSIVE ENGLISH: 2nde)\n",
      "\n",
      "\n",
      "Page 2 :\n",
      "2018     [BILINGUISME (INTENSIVE ENGLISH)]                Programme of Study (SBEP -Intensive English): 2nde   Page 2                        Order N° ____________________     /MINESEC/IGS/IGE ________________________  To outline the English Language Syllabus for Seconde (2nde) classes of the Special Bilingual Education Programme (SBEP) for Secondary  General Education To outline the English Language Syllabus of the Special Bilingual Education Programme (SBEP) for Seconde (2nde) classes  of Secondary General Education                                                          THE MINISTER OF SECONDARY EDUCATION,   Mindful of the Constitution;   Mindful of Law No 98/004 of 14 April, 1998 to lay down Guidelines for Education in Cameroon;  Mindful of Decree N° 2018/191 of 2 March, 2018 to reorganise the Government;   Mindful of Decree N° 2018/191 of 2 March, 2018 to form the Government;   Mindful of Decree N° 2012/267 of 11 June, 2012 to organise the Ministry of Secondary Education;                                                           HEREBY ORDERS AS FOLLOWS:  Article 1: The syllabus for the Special Bilingual Education Programme (English to Francophones) for 2nde classes of Secondary General Education is  outlined as follows:     REPUBLIQUE DU CAMEROUN  Paix-Travail-Patrie  **********  MINISTERE DES ENSEIGNEMENTS SECONDAIRES  **********  INSPECTION GENERALE DES ENSEIGNEMENTS  **********    REPUBLIC OF CAMEROON  Peace-Work-Fatherland  **********  MINISTRY OF SECONDARY EDUCATION  **********  INSPECTORATE GENERAL OF EDUCATION  **********\n",
      "\n",
      "\n",
      "\n",
      "--- official-Books-List-MINESEC-GSE2024-2025.pdf ---\n",
      "Page 1 :\n",
      "\n",
      "\n",
      "\n",
      "Page 2 :\n",
      "\n",
      "\n",
      "\n",
      "\n",
      "--- Histoire 4ème et 3ème.pdf ---\n",
      "Page 1 :\n",
      "REPUBLIQUE DU CAMEROUN  Paix – Travail – Patrie      REPUBLIC OF CAMEROON  Peace – Work - Fatherland      MINISTERE DES ENSEIGNEMENTS SECONDAIRES  MINISTRY OF SECONDARY EDUCATION            INSPECTION GENERALE DES ENSEIGNEMENTS  INSPECTORATE GENERAL OF EDUCATION                                                            Observer son environnement  pour mieux orienter ses choix de formation et réussir sa vie      INSPECTION DE PEDAGOGIE CHARGEE DE L’ENSEIGNEMENT DES SCIENCES HUMAINES  INSPECTORATE OF PEDAGOGY IN CHARGE OF SOCIAL SCIENCES                                                                                                                     Décembre  2014      PROGRAMMES D’ETUDES DE 4ème et 3ème : HISTOIRE\n",
      "\n",
      "\n",
      "Page 2 :\n",
      "\n",
      "\n",
      "\n",
      "\n",
      "--- HISTOIRE 6e 5e ESG.pdf ---\n",
      "Page 1 :\n",
      "REPUBLIQUE DU CAMEROUN  Paix – Travail – Patrie      REPUBLIC OF CAMEROON  Peace – Work - Fatherland    MINISTERE DES ENSEIGNEMENTS SECONDAIRES  MINISTRY OF SECONDARY EDUCATION        INSPECTION GENERALE DES ENSEIGNEMENTS  INSPECTORATE GENERAL OF EDUCATION                                                            Observer son environnement  pour mieux orienter ses choix de formation et réussir sa vie      INSPECTION DE PEDAGOGIE CHARGEE DE L’ENSEIGNEMENT DES SCIENCES HUMAINES  INSPECTORATE OF PEDAGOGY IN CHARGE OF SOCIAL SCIENCES Août 2014  PROGRAMMES D’ETUDES DE 6e et 5e: HISTOIRE\n",
      "\n",
      "\n",
      "Page 2 :\n",
      "\n",
      "\n",
      "\n",
      "\n",
      "--- Informatique 6e-Tle.pdf ---\n",
      "Page 1 :\n",
      "REPUBLIQUE DU CAMEROUN  PAIX-TRAVAIL-PATRIE  MINISTERE DES ENSEIGNEMENTS SECONDAIRES  INSPECTION GENERALE DES ENSEIGNEMENTS  INSPECTION DE PEDAGOGIE CHARGE DE L’ENSEIGNEMENT   DE L’INFORMATIQUE                                                                                                                                                                                                     Septembre 2010  PROGRAMMES OFFICIELS D’INFORMATIQUE  DE L’ENSEIGNEMENT SECONDAIRE     Le Guide pédagogique et les référentiels des  compétences pour l’enseignement de  l’informatique et des TICs   Enseignements général, technique et normal\n",
      "\n",
      "\n",
      "Page 2 :\n",
      "MINISTERE DES ENSEIGNEMENTS SECONDAIRES  INSPECTION GENERALE DES ENSEIGNEMENTS  INSPECTION DE PEDAGOGIE CHARGE DE L’ENSEIGNEMENT   DE L’INFORMATIQUE                                                            PROGRAMMES OFFICIELS D’INFORMATIQUE  DE L’ENSEIGNEMENT SECONDAIRE     Le Guide pédagogique et les référentiels des  compétences pour l’enseignement de  l’informatique et des TICs   Enseignements général, technique et normal\n",
      "\n",
      "\n",
      "\n",
      "--- GEOGRAPHIE 6e 5e ESG.pdf ---\n",
      "Page 1 :\n",
      "REPUBLIQUE DU CAMEROUN  Paix – Travail – Patrie      REPUBLIC OF CAMEROON  Peace – Work - Fatherland    MINISTERE DES ENSEIGNEMENTS SECONDAIRES  MINISTRY OF SECONDARY EDUCATION        INSPECTION GENERALE DES ENSEIGNEMENTS  INSPECTORATE GENERAL OF EDUCATION                                                            Observer son environnement  pour mieux orienter ses choix de formation et réussir sa vie      INSPECTION DE PEDAGOGIE CHARGEE DE L’ENSEIGNEMENT DES SCIENCES HUMAINES  INSPECTORATE OF PEDAGOGY IN CHARGE OF SOCIAL SCIENCES Août 2014  PROGRAMMES D’ETUDES DE 6e et 5e: GEOGRAPHIE\n",
      "\n",
      "\n",
      "Page 2 :\n",
      "\n",
      "\n",
      "\n",
      "\n",
      "--- Computer F3,4 and 5.pdf ---\n",
      "Page 1 :\n",
      "REPUBLIQUE DU CAMEROUN  Paix – Travail – Patrie          MINISTERE DES ENSEIGNEMENTS SECONDAIRES  MINISTRY OF SECONDARY EDUCATION  REPUBLIC OF CAMEROON  Peace – Work - Fatherland    INSPECTION GENERALE DES ENSEIGNEMENTS  INSPECTORATE GENERAL OF EDUCATION    COMPUTER SCIENCE  TEACHING SYLLABUS FORMS III, IV AND V                            Observe the environment and choose better study options for a fulfilled life        INSPECTION DE PEDAGOGIE CHARGEE DE L’ENSEIGNEMENT DE L’INFORMATIQUE  INSPECTORATE OF PEDAGOGY IN CHARGE OF COMPUTER SCIENCE  December 2014\n",
      "\n",
      "\n",
      "Page 2 :\n",
      "\n",
      "\n",
      "\n",
      "\n",
      "--- Chemistry Form 3,4,5.pdf ---\n",
      "Page 1 :\n",
      "CHEMISTRY TEACHING SYLLABUS FOR THE FIRST CYCLE: FORM 3, FORM 4 AND FORM 5  1      REPUBLIQUE DU CAMEROUN  Paix – Travail – Patrie      REPUBLIC OF CAMEROON  Peace – Work - Fatherland      MINISTERE DES ENSEIGNEMENTS SECONDAIRES  MINISTRY OF SECONDARY EDUCATION            INSPECTION GENERALE DES ENSEIGNEMENTS  INSPECTORATE GENERAL OF EDUCATION                                                        Observer son environnement  pour mieux orienter ses choix de formation et réussir sa vie      INSPECTION DE PEDAGOGIE CHARGEE DE L’ENSEIGNEMENT DESSCIENCES  INSPECTORATE OF PEDAGOGY IN CHARGE OF SCIENCES Décembre 2014    CHEMISTRY TEACHING SYLLABUS FOR FORMS 1 & 2 OF SECONDARY  GENERAL EDUCATION  Forms 3, 4 and 5\n",
      "\n",
      "\n",
      "Page 2 :\n",
      "CHEMISTRY TEACHING SYLLABUS FOR THE FIRST CYCLE: FORM 3, FORM 4 AND FORM 5  2\n",
      "\n",
      "\n",
      "\n",
      "--- ANGLAIS SBEP 4e.pdf ---\n",
      "Page 1 :\n",
      "[DECEMBRE, 2014]     [BILINGUISME (ANGLAIS                 Programme of Study (SBEP – Anglais Intensif): 4ème and 3ème  Page 1      REPUBLIQUE DU CAMEROUN  Paix – Travail – Patrie      REPUBLIC OF CAMEROON  Peace – Work - Fatherland      MINISTERE DES ENSEIGNEMENTS SECONDAIRES  MINISTRY OF SECONDARY EDUCATION            INSPECTION GENERALE DES ENSEIGNEMENTS  INSPECTORATE GENERAL OF EDUCATION                                                            Observer son environnement  pour mieux orienter ses choix de formation et réussir sa vie      INSPECTION DE PEDAGOGIE CHARGEE DE L’ENSEIGNEMENT ET DE LA PROMOTION DU BILINGUISME  INSPECTORATE OF PEDAGOGY IN CHARGE TEACHING AND PROMOTION OF BILINGUALISM    PROGRAMME OF STUDY: SPECIAL BILINGUAL EDUCATION PROGRAMME  (SBEP)  General Secondary Education  ANGLAIS INTENSIF : 4ème et 3ème\n",
      "\n",
      "\n",
      "Page 2 :\n",
      "[DECEMBRE, 2014]     [BILINGUISME (ANGLAIS                 Programme of Study (SBEP – Anglais Intensif): 4ème and 3ème  Page 2\n",
      "\n",
      "\n",
      "\n",
      "--- Chimie 2deC.pdf ---\n",
      "Page 1 :\n",
      "1      1   P A H C   E U Q I M O T A   U A Y O N   E L  :      e m è l b o r p   n o it a u ti S  :  citr a p   e d  s e é u tits n o c  t n o s  t n e r u o t n e  s u o n  iu q  s e c n a ts b u s  s e L  s el s éle p p a  s e tit e p  t n e m inif ni s elu  s elu citr a p  s e d  t n o s   e C  .s e m o t a  s e d   à  s elb ali m is s a  t n o s  t e   e ria nid r o  s e p o c s o r ci m   u a  s elbisiv ni 0 1   =   m p 1  (  m p 0 0 3  t e   0 5   e rt n e   eir a v   n o y a r  el t n o d  s e r è h p s - 2 1 m  0 1   =   m n 1  ; -9m  0 1   = m µ 1  ; -6m  ; 1 0 1 = Ȧ - 0 1 m  0 1   =   m f 1 ; - 5 1 m)  e rt u a   e n u’d   e r èit a m   e n u   r eic n e r é ffid   e ria f t u e p  iu q   e c ts e’u q  s u o v  n ole S  ?      e c n e t é p m o C  :  -  e u qi m o t a   u a y o n   u d   n oitis o p m o c  al r e ni m r e t é D  ;  -  e u qi m o t a   u a y o n   n u  r e t n e s é r p e R  ;  -  .s e p o t o si s el r eifit n e d I     s é ti v it c A  :  1-  . e u q i m o t a   u a y o n   u d   e c n e d i v é   n e   e s i M   1 . 1 -  ) 1 1 9 1 (  d r o fr e h t u R   e d   e c n e ir é p x E  :    e c r u o s  e n u   e rt n E   e vitis o p   é ticirtc elé’d  s e é g r a h c s elu citr a p   e d  t n a tt e m é   e vitc a oid a r   s elu citr a p  (  𝛼    e m g a r h p aid   n u  s n o ç alp  ,t n e c s e r o ulf  n a r c é   n u  t e  ) m uilé h’d  x u a y o n   e d  t n o s  iu q . n a r c é’l  à’u q s uj  eitr o s r u el siu p e d  ,t n e m e n n o y a r  el r e sila n a c  e d   nif  à                         2 . 1 -  n o it a v r e s b O  :  . e t n allir b  s è rt  ela rt n e c  e h c a t  e n u   e v r e s b o   n o  ,r o’d   elliu e f  al  e d   e c n e s b a   n E        s e h c a t s e rt u a’d  t e   e t n allir b   ela rt n e c  e h c a t  e n u   n a r c é’l r u s  e v r e s b o   n o  r o’d   elliu e f  al  e d   e c n e s é r p   n E .s e c n a tr o p m i s e r d nio m   e d\n",
      "\n",
      "\n",
      "Page 2 :\n",
      "2    3 . 1 -   n o it a t é r p r e t n I  :  e t n allir b  s è rt   ela rt n e c   e h c a t   e n u’d   e c n e s é r p   a L    s elu citr a p  s e d  tr a p  s ulp   al   e u q   e v u o r p 𝛼   r o’d   elliu e f  al ,) s elc a ts b o’d  s a p   e rt n o c n e r  e n  (  n oit aiv é d   e d  rib u s  s n a s  r o’d   elliu e f  al t n e s r e v a rt   e m m o c   e u q   e r ulc n o c  s r ola  t u e p   n o  ,s e div  s e c a p s e  s e d  c n o d   e t n e s é r p   e t u o t  ,r o’d   elliu e f   al   e r èit a m ) s e d i v   s e d  t n e it n o c (  e ri a n u c a l  e r u t c u rt s   e n u   à .   s e d  r o’d   elliu e f  al s n a d   e c n e s é r p   al r a p   e u qilp x e’s   e c n a tr o p m i  e r d nio m   e d  s e h c a t  e d   e c n e s é r p   a L t n a s s a p  s elu citr a p  s el t n e s s u o p e r  iu q   e vitis o p   é ticirtc elé’d  s e é g r a h c  s elu c s u p r o c     é ti m ix o r p   à  s e éle p p a  t n o s s elu c s u p r o c s e c ,s elle’d s e u q i m o t a   x u a y o n .    a L  s r ola  t e m d a   n o  ,is s u a  t n o s   el  e u tits n o c   al iu q  s e m o t a  s el , e rt u e n  t n e m e u qirtc elé  t n a t é   e r èit a m  s éle p p a  s e vit a g é n  s é ticirtc elé’d  s elu c s u p r o c   e d   e r èit a m   al s n a d   e c n e s é r p   al s n o rt c e l é , c x u e -  ic . u a y o n   u d  r u o t u a  t n e tiv a r g     4 . 1 -    n o i s u l c n o C   :   s eitr a p  x u e d   d n e r p m o c t e   e rt u e n  t n e m e u qirtc elé  ts e   e m o t a’L  :  -  s e vitis o p   é ticirtc elé’d   é g r a h c t e   u a y o n   éle p p a   ela rt n e c  eitr a p   e n U   -    é ticirtc elé’d  s é g r a h c s n o rtc elé  s e d  t n a n e t n o c  elleicifr e p u s  eitr a p   e n U . e vit a g é n     2-  e u q i m o t a   u a y o n   u d   s t n a u tit s n o c   s e L  :  s n o élc u n   e d  s e p yt x u e d   e u g nitsid   n O  .s n o élc u n  s e éle p p a   elu citr a p   e d   é u tits n o c ts e   u a y o n   e L    s e L  : .s n o rt u e n  s el t e  s n o t o r p   -  s n o t o r p   s e L  :  ela g é  ts e   n o t o r p   n u’d   e g r a h c   a L  . e vitis o p   é ticirtc elé’d  s é g r a h c  t n o s  slI     al  à  tio s   e u qirtc elé   e g r a h c   e tit e p  s ulp 9 1 0 1.2 0 6 ,1 p C e q \u0010   \u000e     b m olu o c   n e   e m ir p x e’s   e g r a h c   a L  .  ts e   n o t o r p   u d   e s s a m   a L .) C ( 7 2 0 1.2 7 6 ,1 p g k m \u0010   .  -  s n o rt u e n   s e L  :  (  e u qirtc elé   e g r a h c   e n u c u a  t n e tr o p   e n  slI 0 n C q   )   n o rt u e n   n u’d   e s s a m   a L  .  , n o t o r p   u d   elle c  à   ela g é  t n e m elbis n e s ts e 7 2 0 1.2 7 6 ,1 P n g k m m \u0010   | .    3-  e g r a h c   e d   e r b m o N   . e s s a m   e d   e r b m o n  t e   -   ts e   u a y o n   n u’d   e g r a h c   e d   e r b m o n   éle p p a   e r o c n e  , e u qi m o t a   o r é m u n   el , Z   é t o n  t n e m ela r é n é G d   e r b m o n   el   e c s n a d   u n e t n o c s n o t o r p   e u a y o n  ;  -   li’u q  s n o élc u n   e d   e r b m o n   el ts e   u a y o n   n u’d   e s s a m   e d   e r b m o n   el , A   é t o n  t n e m ela r é n é G t e c  e tr o p m o c -à- .s n o rt u e n   e d  t e  s n o t o r p   e d   e r b m o n   el  e rid      , e u qi m o t a   u a y o n   n u  s n a d  s n o rt u e n   e d   e r b m o n   el  e t n e s é r p e r  N  i S    n O  a  :   +   N   =   A  tio s  Z   A   = N -Z              e x E n o it a c il p p a ’ d   e c i c r  :     t n o s  e m o t a   n u’d   u a y o n   u d  s e u qitsir é tc a r a c s e L   . 2 9   =   Z  , 5 3 2   =   A  :   . 1   .s n o rtc elé’d  t e   n o rt u e n   e d   e r b m o n   n o s ts e  le u Q   . 2   m   e s s a m   al r elu cla C 1  .s n o rtc elé  s e d   e s s a m   al s a p   e gilg é n   e n   n o’l  e u q s r ol  e m o t a  t e c  e d   . 3   m   e s s a m   al r elu cla C 2    e r a p m o C  . e é gilg é n  ts e  s n o rtc elé  s e d   e s s a m   al  e u q s r ol  e m o t a  t e c   e d m1  m  t e 2  . e r ulc n o c siu p               e u q r a m e R  :  -  .s r eit n e  s r u oju o t s e r b m o n  s e d  t n o s  Z  t e   A   -    el r a p  tir c é d   e u qi m o t a   u a y o n   n U   e g r a h c   al  e tr o p  t e  s n o t o r p   Z   e tr o p m o c  ) Z  , A (   elp u o c ela t o t  e u qirtc elé  :    4-  . e u q i m o t a   u a y o n   n u ’ d   e u q il o b m y s   n o it a t n e s é r p e R    r a p  , A   e s s a m   e d   e r b m o n   n o s  t e   Z   e g r a h c  e d   e r b m o n   n o s r a p   é sir é tc a r a c ts e   e m o t a   n u’d   u a y o n   e L e u qi m o t a   u a y o n   n u   e t n e s é r p e r  n o   n oit n e v n o c     à   e g r a h c   e d   e r b m o n   n o s  t n a sic é r p   n e   X   elo b m y s   e d Z + =  Q (  e r a h c al ts e e .2 0 6,1 = e t u a v t e e ria t n e m élé e g 0 1 - 9 1 C)\n",
      "\n",
      "\n",
      "\n",
      "--- Physics Form 3,4 and 5.pdf ---\n",
      "Page 1 :\n",
      "Page | 1       REPUBLIQUE DU CAMEROUN  Paix – Travail – Patrie      REPUBLIC OF CAMEROON  Peace – Work - Fatherland      MINISTERE DES ENSEIGNEMENTS SECONDAIRES  MINISTRY OF SECONDARY EDUCATION            INSPECTION GENERALE DES ENSEIGNEMENTS  INSPECTORATE GENERAL OF EDUCATION                                                            Observer son environnement  pour mieux orienter ses choix de formation et réussir sa vie      INSPECTION DE PEDAGOGIE CHARGEE DE L’ENSEIGNEMENT DES SCIENCES  INSPECTORATE OF PEDAGOGY IN CHARGE OF SCIENCES                                                                                                                     Décembre 2014        PHYSICS TEACHING SYLLABUS  Forms 3, 4 and 5\n",
      "\n",
      "\n",
      "Page 2 :\n",
      "Page | 2\n",
      "\n",
      "\n",
      "\n",
      "--- HISTOIRE Tle-ESG.pdf ---\n",
      "Page 1 :\n",
      "PROGRAMME D’ETUDES DES CLASSES TERMINALES DE L’ENSEIGNEMENT SECONDAIRE GENERAL : HISTOIRE   Page 1/18                                                                Observer son environnement pour mieux orienter ses choix de formation et réussir sa vie    INSPECTION DE PEDAGOGIE CHARGEE DE L’ENSEIGNEMENT DES SCIENCES HUMAINES  INSPECTORATE OF PEDAGOGY IN CHARGE OF SOCIAL SCIENCES      REPUBLIC OF CAMEROON  Peace – Work - Fatherland        REPUBLIQUE DU CAMEROUN  Paix – Travail – Patrie    MINISTERE DES ENSEIGNEMENTS SECONDAIRES  MINISTRY OF SECONDARY EDUCATION            INSPECTION GENERALE DES ENSEIGNEMENTS  INSPECTORATE GENERAL OF EDUCATION      PROGRAMME D’ETUDES DES CLASSES TERMINALES DE L’ENSEIGNEMENT   SECONDAIRE GENERAL   HISTOIRE\n",
      "\n",
      "\n",
      "Page 2 :\n",
      "PROGRAMME D’ETUDES DES CLASSES TERMINALES DE L’ENSEIGNEMENT SECONDAIRE GENERAL : HISTOIRE   Page 2/18     DOMAINE D'APPRENTISSAGE : SCIENCES  HUMAINES\n",
      "\n",
      "\n",
      "\n",
      "--- HISTOIRE Tle-EST.pdf ---\n",
      "Page 1 :\n",
      "PROGRAMME D’ETUDES DES CLASSES TERMINALES DE L’ENSEIGNEMENT SECONDAIRE TECHNIQUE : HISTOIRE   AOUT 2020  page 1/16                                                  Observer son environnement pour mieux orienter ses choix de formation et réussir sa vie    INSPECTION DE PEDAGOGIE CHARGEE DE L’ENSEIGNEMENT DES SCIENCES HUMAINES  INSPECTORATE OF PEDAGOGY IN CHARGE OF SOCIAL SCIENCES    REPUBLIC OF CAMEROON  Peace – Work - Fatherland        REPUBLIQUE DU CAMEROUN  Paix – Travail – Patrie    MINISTERE DES ENSEIGNEMENTS SECONDAIRES  MINISTRY OF SECONDARY EDUCATION            INSPECTION GENERALE DES ENSEIGNEMENTS  INSPECTORATE GENERAL OF EDUCATION      PROGRAMME D’ETUDES DES CLASSES TERMINALES DE L’ENSEIGNEMENT   SECONDAIRE TECHNIQUE   HISTOIRE\n",
      "\n",
      "\n",
      "Page 2 :\n",
      "PROGRAMME D’ETUDES DES CLASSES TERMINALES DE L’ENSEIGNEMENT SECONDAIRE TECHNIQUE : HISTOIRE   AOUT 2020  page 2/16     DOMAINE D'APPRENTISSAGE : SCIENCES  HUMAINES\n",
      "\n",
      "\n",
      "\n",
      "--- Sciences 6e-5e.pdf ---\n",
      "Page 1 :\n",
      "REPUBLIQUE DU CAMEROUN  Paix – Travail – Patrie      REPUBLIC OF CAMEROON  Peace – Work - Fatherland      MINISTERE DES ENSEIGNEMENTS SECONDAIRES  MINISTRY OF SECONDARY EDUCATION            INSPECTION GENERALE DES ENSEIGNEMENTS  INSPECTORATE GENERAL OF EDUCATION                                                                  Observer son environnement  pour mieux orienter ses choix de formation et réussir sa vie      INSPECTION DE PEDAGOGIE CHARGEE DE L’ENSEIGNEMENT DES SCIENCES  INSPECTORATE OF PEDAGOGY IN CHARGE OF SCIENCES Août 2014      PROGRAMMES D’ETUDES DE 6e et 5e: SCIENCES\n",
      "\n",
      "\n",
      "Page 2 :\n",
      "Programme de Sciences des classes de 6è et 5è                                                                                                                                                                                                                                                   Page 1 sur 23\n",
      "\n",
      "\n",
      "\n",
      "--- Litterature_US-LS.pdf ---\n",
      "Page 1 :\n",
      "1                        SECOND CYCLE LITERATURE IN ENGLISH SYLLABUS    FOR THE ANGLOPHONE SUB-SYSTEM OF EDUCATION    (LOWER AND UPPER SIXTH)                REPUBLIQUE DU CAMEROUN  Paix – Travail – Patrie  ---------------  MINISTERE DES ENSEIGNEMENTS SECONDAIRES  ---------------  INSPECTION GENERALE DES ENSEIGNEMENTS  ---------------  INSPECTION DE PEDAGOGIE/LAL  ---------------  SECTION D’ANGLAIS  ---------------              REPUBLIC OF CAMEROON  Peace – Work – Fatherland  ---------------  MINISTRY OF SECONDARY EDUCATION  ---------------  INSPECTORATE GENERAL OF EDUCATION  ---------------  INSPECTORATE OF PEDAGOGY/LAL  ---------------  DEPARTMENT OF ENGLISH  --------------  Yaounde,....................................\n",
      "\n",
      "\n",
      "Page 2 :\n",
      "2      LITERATURE IN ENGLISH SYLLABUS    FOR ANGLOPHONE SECONDARY GENERAL EDUCATION IN CAMEROON    SECOND CYCLE – LOWER AND UPPER SIXTH (L6 & U6)      Annual workload per class: 200 hours  Weekly workload per class: 8 hours (Two hours should be allotted for production,  presentation and performance)      Coefficient: 5                                                     SEPTEMBER 2019\n",
      "\n",
      "\n",
      "\n",
      "--- litterature en anglais 2nd.pdf ---\n",
      "Page 1 :\n",
      "1                        SECOND CYCLE LITERATURE IN ENGLISH SYLLABUS    FOR THE ANGLOPHONE SUB-SYSTEM OF EDUCATION    (LOWER AND UPPER SIXTH)                REPUBLIQUE DU CAMEROUN  Paix – Travail – Patrie  ---------------  MINISTERE DES ENSEIGNEMENTS SECONDAIRES  ---------------  INSPECTION GENERALE DES ENSEIGNEMENTS  ---------------  INSPECTION DE PEDAGOGIE/LAL  ---------------  SECTION D’ANGLAIS  ---------------              REPUBLIC OF CAMEROON  Peace – Work – Fatherland  ---------------  MINISTRY OF SECONDARY EDUCATION  ---------------  INSPECTORATE GENERAL OF EDUCATION  ---------------  INSPECTORATE OF PEDAGOGY/LAL  ---------------  DEPARTMENT OF ENGLISH  --------------  Yaounde,....................................\n",
      "\n",
      "\n",
      "Page 2 :\n",
      "2      LITERATURE IN ENGLISH SYLLABUS    FOR ANGLOPHONE SECONDARY GENERAL EDUCATION IN CAMEROON    SECOND CYCLE – LOWER AND UPPER SIXTH (L6 & U6)      Annual workload per class: 200 hours  Weekly workload per class: 8 hours (Two hours should be allotted for production,  presentation and performance)      Coefficient: 5                                                     SEPTEMBER 2019\n",
      "\n",
      "\n",
      "\n",
      "--- GEO Tle-ESG.pdf ---\n",
      "Page 1 :\n",
      "PROGRAMME D’ETUDES DES CLASSES DE TERMINALE DE L’ENSEIGNEMENT SECONDAIRE GENERAL : GEOGRAPHIE AOUT 2020   1/18                                                                Observer son environnement pour mieux orienter ses choix de formation et réussir sa vie    INSPECTION DE PEDAGOGIE CHARGEE DE L’ENSEIGNEMENT DES SCIENCES HUMAINES  INSPECTORATE OF PEDAGOGY IN CHARGE OF SOCIAL SCIENCES        REPUBLIC OF CAMEROON  Peace – Work - Fatherland        REPUBLIQUE DU CAMEROUN  Paix – Travail – Patrie    MINISTERE DES ENSEIGNEMENTS SECONDAIRES  MINISTRY OF SECONDARY EDUCATION            INSPECTION GENERALE DES ENSEIGNEMENTS  INSPECTORATE GENERAL OF EDUCATION      PROGRAMME D’ETUDES DES CLASSES DE TERMINALE DE L’ENSEIGNEMENT  SECONDAIRE GENERAL  GEOGRAPHIE\n",
      "\n",
      "\n",
      "Page 2 :\n",
      "PROGRAMME D’ETUDES DES CLASSES DE TERMINALE DE L’ENSEIGNEMENT SECONDAIRE GENERAL : GEOGRAPHIE AOUT 2020   2/18                                                                            PROGRAMME D’ETUDES : GEOGRAPHIE  Enseignement Secondaire Général : Classe de Terminale\n",
      "\n",
      "\n",
      "\n",
      "--- ANGLAIS Year 3,4 Tech.pdf ---\n",
      "Page 1 :\n",
      "[DECEMBRE 2014]                [ANGLAIS]                                                              Programme of Study (Anglais): Troisième année and quatrième année                                                                                                        Page 1      REPUBLIQUE DU CAMEROUN  Paix – Travail – Patrie      REPUBLIC OF CAMEROON  Peace – Work - Fatherland      MINISTERE DES ENSEIGNEMENTS SECONDAIRES  MINISTRY OF SECONDARY EDUCATION            INSPECTION GENERALE DES ENSEIGNEMENTS  INSPECTORATE GENERAL OF EDUCATION                                                        Observer son environnement  pour mieux orienter ses choix de formation et réussir sa vie      INSPECTION DE PEDAGOGIE CHARGEE DE L’ENSEIGNEMENT ET DE LA PROMOTION DU BILINGUISME  INSPECTORATE OF PEDAGOGY IN CHARGE OF TEACHING AND PROMOTION OF BILINGUALISM      PROGRAMME OF STUDY: ENGLISH TO FRANCOPHONES  Technical Secondary Education  3èmeannée and 4ème année\n",
      "\n",
      "\n",
      "Page 2 :\n",
      "[DECEMBRE 2014]                [ANGLAIS]                                                              Programme of Study (Anglais): Troisième année and quatrième année                                                                                                        Page 2\n",
      "\n",
      "\n",
      "\n",
      "--- Géographie 4è,3è.pdf ---\n",
      "Page 1 :\n",
      "REPUBLIQUE DU CAMEROUN  Paix – Travail – Patrie      REPUBLIC OF CAMEROON  Peace – Work - Fatherland      MINISTERE DES ENSEIGNEMENTS SECONDAIRES  MINISTRY OF SECONDARY EDUCATION            INSPECTION GENERALE DES ENSEIGNEMENTS  INSPECTORATE GENERAL OF EDUCATION                                                                Observer son environnement  pour mieux orienter ses choix de formation et réussir sa vie      INSPECTION DE PEDAGOGIE CHARGEE DE L’ENSEIGNEMENT DES SCIENCES HUMAINES  INSPECTORATE OF PEDAGOGY IN CHARGE OF SOCIAL SCIENCES                                                                                                                                  Décembre  2014      PROGRAMMES D’ETUDES DE 4ème et 3ème :  GÉOGRAPHIE\n",
      "\n",
      "\n",
      "Page 2 :\n",
      "\n",
      "\n",
      "\n",
      "\n",
      "--- FRENCH AS SECOND LANGUAGE Form 3,  4 et 5 .pdf ---\n",
      "Page 1 :\n",
      "Programme de français  deuxième langue : Classes de Form 3, Form 4 et Form 5  Page 1        REPUBLIQUE DU CAMEROUN  Paix – Travail – Patrie      REPUBLIC OF CAMEROON  Peace – Work - Fatherland      MINISTERE DES ENSEIGNEMENTS SECONDAIRES  MINISTRY OF SECONDARY EDUCATION            INSPECTION GENERALE DES ENSEIGNEMENTS  INSPECTORATE GENERAL OF EDUCATION                                                        Observer son environnement  pour mieux orienter ses choix de formation et réussir sa vie    INSPECTION DE PEDAGOGIE CHARGÉE DE L’ENSEIGNEMENT ET DE LA PROMOTION DU BILINGUISME  INSPECTORATE OF PEDAGOGY IN CHARGE TEACHING AND PROMOTION OF BILINGUALISM  PROGRAMMES D’ETUDES DE FORMS III, IV AND V  FRANÇAIS 2èmeLANGUE\n",
      "\n",
      "\n",
      "Page 2 :\n",
      "Programme de français  deuxième langue : Classes de Form 3, Form 4 et Form 5  Page 2\n",
      "\n",
      "\n",
      "\n",
      "--- ECM 6E 5E ESG.pdf ---\n",
      "Page 1 :\n",
      "REPUBLIQUE DU CAMEROUN  Paix – Travail – Patrie      REPUBLIC OF CAMEROON  Peace – Work - Fatherland    MINISTERE DES ENSEIGNEMENTS SECONDAIRES  MINISTRY OF SECONDARY EDUCATION        INSPECTION GENERALE DES ENSEIGNEMENTS  INSPECTORATE GENERAL OF EDUCATION                                                            Observer son environnement  pour mieux orienter ses choix de formation et réussir sa vie      INSPECTION DE PEDAGOGIE CHARGEE DE L’ENSEIGNEMENT DES SCIENCES HUMAINES  INSPECTORATE OF PEDAGOGY IN CHARGE OF SOCIAL SCIENCES Août 2014  PROGRAMMES D’ETUDES DE 6e et 5e: ÉDUCATION Ā LA CITOYENNETÉ\n",
      "\n",
      "\n",
      "Page 2 :\n",
      "\n",
      "\n",
      "\n",
      "\n",
      "--- Computer Form1-2.pdf ---\n",
      "Page 1 :\n",
      "REPUBLIQUE DU CAMEROUN  Paix – Travail – Patrie      REPUBLIC OF CAMEROON  Peace – Work - Fatherland      MINISTERE DES ENSEIGNEMENTS SECONDAIRES  MINISTRY OF SECONDARY EDUCATION            INSPECTION GENERALE DES ENSEIGNEMENTS  INSPECTORATE GENERAL OF EDUCATION                                                                  Observe  the environment and choose  better study  options for a fulfilled life      INSPECTION DE PEDAGOGIE CHARGEE DE L’ENSEIGNEMENT DE L’INFORMATIQUE  INSPECTORATE OF PEDAGOGY IN CHARGE OF COMPUTER SCIENCE                                                                                                         August 2014    COMPUTER SCIENCE  CURRICULUM FORM ONE AND FORM TWO\n",
      "\n",
      "\n",
      "Page 2 :\n",
      "1\n",
      "\n",
      "\n",
      "\n",
      "--- Francais 4e-3e.pdf ---\n",
      "Page 1 :\n",
      "REPUBLIQUE DU CAMEROUN  Paix – Travail – Patrie      REPUBLIC OF CAMEROON  Peace – Work - Fatherland      MINISTERE DES ENSEIGNEMENTS  SECONDAIRES  MINISTRY OF SECONDARY EDUCATION      INSPECTION GENERALE DES ENSEIGNEMENTS  INSPECTORATE GENERAL OF EDUCATION                    Observer son environnement  pour mieux orienter ses choix de formation et réussir sa vie  INSPECTION DE PEDAGOGIE CHARGEE DE L’ENSEIGNEMENT DES LETTRES, ARTS ET LANGUES  INSPECTORATE OF PEDAGOGY IN CHARGE OF Letters, Arts and Languages                                                                                                                                                                                                                                   Décembre 2014        PROGRAMME D’ETUDES DE 4èmeet 3ème: FRANÇAIS 1ère Langue\n",
      "\n",
      "\n",
      "Page 2 :\n",
      "PROGRAMME D’ETUDES DE FRANÇAIS PREMIERE LANGUE – CLASSES DE 4ème-3ème     2    SOMMAIRE    PRÉFACE DE MONSIEUR LE MINISTRE DES ENSEIGNEMENTS SECONDAIRES........................................................................................................... 4  NOTE DE MADAME L’INSPECTEUR GENERAL DES ENSEIGNEMENTS : ........................................................................................................................ 6  I. PRESENTATION DU PROGAMME D’ETUDES DE FRANҪAIS PREMIERE LANGUE ................................................................................................. 15  II. PROFIL DE L’APPRENANT AU TERME DU 1ER CYCLE DE L’ENSEIGNEMENT SECONDAIRE GENERAL ........................................................ 17  III. DOMAINE D’APPRENTISSAGE ET DISCIPLINES CORRESPONDANTES .................................................................................................................. 19  IV. CONTRIBUTION DU PROGRAMME D’ETUDES AU DOMAINE D’APPRENTISSAGE ............................................................................................. 19  V. CONTRIBUTION DU PROGRAMME D’ETUDES AUX DOMAINES DE VIE................................................................................................................. 19  VI. PRESENTATION DES FAMILLES DE SITUATIONS COUVERTES PAR LE PROGRAMME D’ETUDES ................................................................. 19  VII. TABLEAU SYNOPTIQUE DES CONTENUS DES DIFFERENTS MODULES .............................................................................................................. 20  VIII. PRESENTATION DES DIFFERENTS MODULES ........................................................................................................................................................... 20  IX. TABLEAUX DES MODULES DE LA CLASSE DE QUATRIEME ................................................................................................................................... 25  X. TABLEAUX DES MODULES DE LA CLASSE DE TROISIEME ....................................................................................................................................... 36  XI. METHODES D’APPRENTISSAGE ...................................................................................................................................................................................... 47  XII. EVALUATION ...................................................................................................................................................................................................................... 61\n",
      "\n",
      "\n",
      "\n",
      "--- Education artistique 4e 3e.pdf ---\n",
      "Page 1 :\n",
      "1      REPUBLIQUE DU CAMEROUN  Paix – Travail – Patrie      REPUBLIC OF CAMEROON  Peace – Work - Fatherland      MINISTERE DES ENSEIGNEMENTS SECONDAIRES  MINISTRY OF SECONDARY EDUCATION            INSPECTION GENERALE DES ENSEIGNEMENTS  INSPECTORATE GENERAL OF EDUCATION                                                            Observer son environnement  pour mieux orienter ses choix de formation et réussir sa vie      INSPECTION DE PEDAGOGIE CHARGEE DE L’ENSEIGNEMENT DES LETTRES, ARTS ET LANGUES  INSPECTORATE OF PEDAGOGY IN CHARGE OF Letters, Arts and Languages                                                                                   Décembre 2014        PROGRAMMES D’ETUDES DE 4èmeet 3ème: EDUCATION ARTISTIQUE ET CULTURELLE\n",
      "\n",
      "\n",
      "Page 2 :\n",
      "2\n",
      "\n",
      "\n",
      "\n",
      "--- ECM 4ème,3ème.pdf ---\n",
      "Page 1 :\n",
      "REPUBLIQUE DU CAMEROUN  Paix – Travail – Patrie      REPUBLIC OF CAMEROON  Peace – Work - Fatherland      MINISTERE DES ENSEIGNEMENTS SECONDAIRES  MINISTRY OF SECONDARY EDUCATION            INSPECTION GENERALE DES ENSEIGNEMENTS  INSPECTORATE GENERAL OF EDUCATION                                                                  Observer son environnement  pour mieux orienter ses choix de formation et réussir sa vie      INSPECTION DE PEDAGOGIE CHARGEE DE L’ENSEIGNEMENT DES SCIENCES HUMAINES  INSPECTORATE OF PEDAGOGY IN CHARGE OF SOCIAL SCIENCES         PROGRAMMES D’ETUDES DE 4ème et 3ème :  Education à la Citoyenneté  Décembre 2014\n",
      "\n",
      "\n",
      "Page 2 :\n",
      "\n",
      "\n",
      "\n",
      "\n",
      "--- ANGLAIS 4e ESG .pdf ---\n",
      "Page 1 :\n",
      "Programme of Study (Anglais): 4ème and 3ème                                                                                                                                Page 1        REPUBLIQUE DU  CAMEROUN  Paix – Travail – Patrie      REPUBLIC OF  CAMEROON  Peace – Work - Fatherland      MINISTERE DES ENSEIGNEMENTS  SECONDAIRES  MINISTRY OF SECONDARY EDUCATION            INSPECTION GENERALE DES ENSEIGNEMENTS  INSPECTORATE GENERAL OF EDUCATION                                                  Observer son environnement  pour mieux orienter ses choix de formation et réussir sa vie          INSPECTORATE OF PEDAGOGY IN CHARGE OF TEACHING AND PROMOTION OF BILINGUALISM   INSPECTION DE PEDAGOGIE CHARGEE DE L’ENSEIGNEMENT ET DE LA PROMOTION DU BILINGUISME    PROGRAMME OF STUDY: ENGLISH TO FRANCOPHONES  General Secondary Education  4ème et 3ème\n",
      "\n",
      "\n",
      "Page 2 :\n",
      "Programme of Study (Anglais): 4ème and 3ème                                                                                                                                Page 2\n",
      "\n",
      "\n"
     ]
    }
   ],
   "source": [
    "import os\n",
    "from tqdm.auto import tqdm  # Pour afficher une barre de progression\n",
    "import fitz  # PyMuPDF, pour lire les fichiers PDF\n",
    "\n",
    "# Fonction pour formater le texte\n",
    "def formater_texte(texte: str) -> str:\n",
    "    \"\"\"Effectue un léger formatage du texte.\"\"\"\n",
    "    texte_nettoye = texte.replace(\"\\n\", \" \").strip()  # Remplace les sauts de ligne par des espaces et supprime les espaces inutiles\n",
    "    return texte_nettoye\n",
    "\n",
    "# Fonction pour ouvrir et lire un fichier PDF\n",
    "def ouvrir_et_lire_pdf(chemin_pdf: str) -> list[dict]:\n",
    "    \"\"\"\n",
    "    Ouvre un fichier PDF, lit son contenu page par page et collecte des statistiques.\n",
    "\n",
    "    Paramètres :\n",
    "        chemin_pdf (str) : Chemin d'accès au fichier PDF à ouvrir et lire.\n",
    "\n",
    "    Retourne :\n",
    "        list[dict] : Une liste de dictionnaires contenant le numéro de page,\n",
    "        le nombre de caractères, le nombre de mots, le nombre de phrases,\n",
    "        le nombre estimé de tokens et le texte extrait pour chaque page.\n",
    "    \"\"\"\n",
    "    doc = fitz.open(chemin_pdf)  # Ouvre le document PDF\n",
    "    pages_et_textes = []\n",
    "    for numero_page, page in tqdm(enumerate(doc), desc=f\"Traitement de {os.path.basename(chemin_pdf)}\"):  # Parcourt les pages\n",
    "        texte = page.get_text()  # Extrait le texte de la page\n",
    "        texte = formater_texte(texte)  # Nettoie le texte\n",
    "        pages_et_textes.append({\n",
    "            \"numero_page\": numero_page + 1,  # Les numéros de page commencent à 1\n",
    "            \"nb_caracteres\": len(texte),\n",
    "            \"nb_mots\": len(texte.split(\" \")),\n",
    "            \"nb_phrases\": len(texte.split(\". \")),\n",
    "            \"nb_tokens_estime\": len(texte) / 4,  # Estimation des tokens (1 token ≈ 4 caractères)\n",
    "            \"texte\": texte\n",
    "        })\n",
    "    return pages_et_textes\n",
    "\n",
    "# Dossier contenant les fichiers PDF locaux\n",
    "dossier_pdf = \"data\"  # Modifiez ceci si votre dossier a un autre nom\n",
    "\n",
    "# Vérifie si le dossier existe\n",
    "if not os.path.exists(dossier_pdf):\n",
    "    raise FileNotFoundError(f\"Le dossier '{dossier_pdf}' n'existe pas.\")\n",
    "\n",
    "# Liste tous les fichiers PDF dans le dossier\n",
    "fichiers_pdf = [os.path.join(dossier_pdf, f) for f in os.listdir(dossier_pdf) if f.endswith(\".pdf\")]\n",
    "\n",
    "# Traite tous les fichiers PDF du dossier\n",
    "contenu_tous_les_pdfs = {}\n",
    "\n",
    "for fichier_pdf in fichiers_pdf:\n",
    "    print(f\"Lecture du fichier : {fichier_pdf}\")\n",
    "    contenu_pdf = ouvrir_et_lire_pdf(fichier_pdf)  # Lit le contenu du PDF\n",
    "    contenu_tous_les_pdfs[os.path.basename(fichier_pdf)] = contenu_pdf  # Stocke le contenu avec le nom du fichier comme clé\n",
    "\n",
    "# Exemple : Affiche les 2 premières pages de chaque PDF traité\n",
    "for nom_pdf, contenu in contenu_tous_les_pdfs.items():\n",
    "    print(f\"\\n--- {nom_pdf} ---\")\n",
    "    for page in contenu[:2]:  # Affiche uniquement les 2 premières pages\n",
    "        print(f\"Page {page['numero_page']} :\")\n",
    "        print(page['texte'])\n",
    "        print(\"\\n\")\n"
   ]
  },
  {
   "cell_type": "markdown",
   "metadata": {},
   "source": [
    "Prenons maintenant un échantillon aléatoire des pages."
   ]
  },
  {
   "cell_type": "code",
   "execution_count": 6,
   "metadata": {},
   "outputs": [
    {
     "name": "stdout",
     "output_type": "stream",
     "text": [
      "\n",
      "--- Page Aléatoire 1 ---\n",
      "Numéro de page : 30\n",
      "Contenu : Page 30 sur 47    Un format se présente avec :     • Le cadre intérieur : c’est un tracé en trait de largeur 0,5mm, à10mm du bord de la feuille. Le cadre limite la zone utilisable par  le dessinateur.  • La cartouche : c’est le cadre à l’intérieur du cadre intérieur, il contient toutes les données nécessaires à l’identification et au  classement du document. Son contour est en trait fort.  Représentation du cartouche d’inscription :                          ECHELLE          NOM ET PRENOM  N°  CLASSE DATE       TITRE  ETABLISSEMENT 6  6  3  90  50  50mm 40mm\n",
      "\n",
      "\n",
      "--- Page Aléatoire 2 ---\n",
      "Numéro de page : 9\n",
      "Contenu : Page 9 sur 47\n",
      "\n",
      "\n",
      "--- Page Aléatoire 3 ---\n",
      "Numéro de page : 15\n",
      "Contenu : Page 15 sur 47     c-Quelle indication porte l'ampèremètre A2?   3. La tension aux bornes d’une portion de circuit   3.1. Unité et appareils de mesure ;   La tension du courant électrique se mesure à l’aide d’un Voltmètre   branché en dérivation.  L’unité de la tension est le volt (symbole : « V »). Un voltmètre se branche en dérivation aux bornes d’un  dipôle (la borne V du côté du « + » du générateur et la borne COM du côté du « - » du générateur). Il faut choisir le plus grand  calibre, c'est-à-dire ici le calibre 600V pour éviter d’endommager l’appareil lors de la mesure d’une tension inconnue.  3.2. Lois des tensions électriques.   Dans un circuit en dérivation, la tension du courant dans la branche principale est égale à la tension dans chaque branche dérivée : c’est  la Loi d’unicité de l’intensité (U=U1=U2=Un).  Dans un circuit électrique en série,  la tension du courant électrique au niveau du générateur est égale à la somme des tensions au borne  de chaque dipôle du circuit: c’est la loi d’additivité de l’intensité (U=U1+U2+…+Un).  Activité :   1- Deux lampes sont branchées en série ? Lesquelles ? /  2-Comment est branchée la lampe L3 par rapport aux lampes L1 et L2 ?   3-La tension U1 aux bornes de L1 vaut 6V, celle U2 aux bornes de L2 vaut 3V.   Calcule la tension U3 aux bornes de L3.   4-Reproduire le schéma et branche un voltmètre et un ampèremètre pour mesurer   la tension et l’intensité dans ce circuit pour mesurer l’intensité du courant   2.4. Résistance d’une portion de circuit électrique\n",
      "\n"
     ]
    }
   ],
   "source": [
    "import random\n",
    "\n",
    "# Sélectionne un fichier PDF particulier pour l'échantillonnage\n",
    "nom_pdf_test = list(contenu_tous_les_pdfs.keys())[0]  # Exemple : le premier fichier PDF\n",
    "pages_and_texts = contenu_tous_les_pdfs[nom_pdf_test]\n",
    "\n",
    "# Vérifie si `pages_and_texts` contient au moins 3 pages\n",
    "if len(pages_and_texts) >= 3:\n",
    "    # Sélectionne 3 pages aléatoires\n",
    "    pages_aleatoires = random.sample(pages_and_texts, k=3)\n",
    "    \n",
    "    # Affiche les pages sélectionnées\n",
    "    for i, page in enumerate(pages_aleatoires, start=1):\n",
    "        print(f\"\\n--- Page Aléatoire {i} ---\")\n",
    "        print(f\"Numéro de page : {page['numero_page']}\")\n",
    "        print(f\"Contenu : {page['texte']}\\n\")\n",
    "else:\n",
    "    print(f\"Le fichier PDF '{nom_pdf_test}' contient moins de 3 pages. Impossible de faire un échantillonnage.\")\n"
   ]
  },
  {
   "cell_type": "code",
   "execution_count": 9,
   "metadata": {},
   "outputs": [
    {
     "data": {
      "text/html": [
       "<div>\n",
       "<style scoped>\n",
       "    .dataframe tbody tr th:only-of-type {\n",
       "        vertical-align: middle;\n",
       "    }\n",
       "\n",
       "    .dataframe tbody tr th {\n",
       "        vertical-align: top;\n",
       "    }\n",
       "\n",
       "    .dataframe thead th {\n",
       "        text-align: right;\n",
       "    }\n",
       "</style>\n",
       "<table border=\"1\" class=\"dataframe\">\n",
       "  <thead>\n",
       "    <tr style=\"text-align: right;\">\n",
       "      <th></th>\n",
       "      <th>numero_page</th>\n",
       "      <th>nb_caracteres</th>\n",
       "      <th>nb_mots</th>\n",
       "      <th>nb_phrases</th>\n",
       "      <th>nb_tokens_estime</th>\n",
       "      <th>texte</th>\n",
       "    </tr>\n",
       "  </thead>\n",
       "  <tbody>\n",
       "    <tr>\n",
       "      <th>0</th>\n",
       "      <td>1</td>\n",
       "      <td>252</td>\n",
       "      <td>46</td>\n",
       "      <td>1</td>\n",
       "      <td>63.00</td>\n",
       "      <td>Page 1 sur 47      DOMAINE D’APPRENTISSAGE : S...</td>\n",
       "    </tr>\n",
       "    <tr>\n",
       "      <th>1</th>\n",
       "      <td>2</td>\n",
       "      <td>1016</td>\n",
       "      <td>186</td>\n",
       "      <td>5</td>\n",
       "      <td>254.00</td>\n",
       "      <td>Page 2 sur 47      MODULE 1 : LA MATIÈRE : SES...</td>\n",
       "    </tr>\n",
       "    <tr>\n",
       "      <th>2</th>\n",
       "      <td>3</td>\n",
       "      <td>2255</td>\n",
       "      <td>394</td>\n",
       "      <td>17</td>\n",
       "      <td>563.75</td>\n",
       "      <td>Page 3 sur 47    2- Identifier parmi ces mots ...</td>\n",
       "    </tr>\n",
       "    <tr>\n",
       "      <th>3</th>\n",
       "      <td>4</td>\n",
       "      <td>2132</td>\n",
       "      <td>379</td>\n",
       "      <td>17</td>\n",
       "      <td>533.00</td>\n",
       "      <td>Page 4 sur 47    1.2- Les aimants  et le champ...</td>\n",
       "    </tr>\n",
       "    <tr>\n",
       "      <th>4</th>\n",
       "      <td>5</td>\n",
       "      <td>1330</td>\n",
       "      <td>269</td>\n",
       "      <td>5</td>\n",
       "      <td>332.50</td>\n",
       "      <td>Page 5 sur 47    1.2.4 Utilisation d’une bouss...</td>\n",
       "    </tr>\n",
       "  </tbody>\n",
       "</table>\n",
       "</div>"
      ],
      "text/plain": [
       "   numero_page  nb_caracteres  nb_mots  nb_phrases  nb_tokens_estime  \\\n",
       "0            1            252       46           1             63.00   \n",
       "1            2           1016      186           5            254.00   \n",
       "2            3           2255      394          17            563.75   \n",
       "3            4           2132      379          17            533.00   \n",
       "4            5           1330      269           5            332.50   \n",
       "\n",
       "                                               texte  \n",
       "0  Page 1 sur 47      DOMAINE D’APPRENTISSAGE : S...  \n",
       "1  Page 2 sur 47      MODULE 1 : LA MATIÈRE : SES...  \n",
       "2  Page 3 sur 47    2- Identifier parmi ces mots ...  \n",
       "3  Page 4 sur 47    1.2- Les aimants  et le champ...  \n",
       "4  Page 5 sur 47    1.2.4 Utilisation d’une bouss...  "
      ]
     },
     "execution_count": 9,
     "metadata": {},
     "output_type": "execute_result"
    }
   ],
   "source": [
    "import pandas as pd\n",
    "\n",
    "df = pd.DataFrame(pages_and_texts)\n",
    "df.head()"
   ]
  },
  {
   "cell_type": "markdown",
   "metadata": {},
   "source": [
    "### Obtenez des statistiques sur le texte\n",
    "\n",
    "Effectuons une analyse exploratoire approximative des données (EDA) pour avoir une idée de la taille des textes (par exemple, nombre de caractères, nombre de mots, etc.) avec lesquels nous travaillons.\n",
    "\n",
    "Les différentes tailles de textes seront un bon indicateur de la manière dont nous devrions diviser nos textes.\n",
    "\n",
    "De nombreux modèles d'intégration ont des limites quant à la taille des textes qu'ils peuvent ingérer, par exemple le modèle [`sentence-transformers`](https://www.sbert.net/docs/pretrained_models.html) [`all-mpnet-base -v2`](https://huggingface.co/sentence-transformers/all-mpnet-base-v2) a une taille d'entrée de 384 jetons.\n",
    "\n",
    "Cela signifie que le modèle a été entraîné à ingérer et à transformer en textes d'intégration avec 384 jetons (1 jeton ~= 4 caractères ~= 0,75 mots).\n",
    "\n",
    "Les textes de plus de 384 jetons codés par ce modèle seront automatiquement réduits à 384 jetons, ce qui risque de perdre certaines informations.\n",
    "\n",
    "Nous en discuterons davantage dans la section intégration.\n",
    "\n",
    "Pour l'instant, transformons notre liste de dictionnaires en DataFrame et explorons-la."
   ]
  },
  {
   "cell_type": "code",
   "execution_count": 10,
   "metadata": {},
   "outputs": [
    {
     "data": {
      "text/html": [
       "<div>\n",
       "<style scoped>\n",
       "    .dataframe tbody tr th:only-of-type {\n",
       "        vertical-align: middle;\n",
       "    }\n",
       "\n",
       "    .dataframe tbody tr th {\n",
       "        vertical-align: top;\n",
       "    }\n",
       "\n",
       "    .dataframe thead th {\n",
       "        text-align: right;\n",
       "    }\n",
       "</style>\n",
       "<table border=\"1\" class=\"dataframe\">\n",
       "  <thead>\n",
       "    <tr style=\"text-align: right;\">\n",
       "      <th></th>\n",
       "      <th>numero_page</th>\n",
       "      <th>nb_caracteres</th>\n",
       "      <th>nb_mots</th>\n",
       "      <th>nb_phrases</th>\n",
       "      <th>nb_tokens_estime</th>\n",
       "    </tr>\n",
       "  </thead>\n",
       "  <tbody>\n",
       "    <tr>\n",
       "      <th>count</th>\n",
       "      <td>47.00</td>\n",
       "      <td>47.00</td>\n",
       "      <td>47.00</td>\n",
       "      <td>47.00</td>\n",
       "      <td>47.00</td>\n",
       "    </tr>\n",
       "    <tr>\n",
       "      <th>mean</th>\n",
       "      <td>24.00</td>\n",
       "      <td>1177.51</td>\n",
       "      <td>222.79</td>\n",
       "      <td>9.57</td>\n",
       "      <td>294.38</td>\n",
       "    </tr>\n",
       "    <tr>\n",
       "      <th>std</th>\n",
       "      <td>13.71</td>\n",
       "      <td>513.32</td>\n",
       "      <td>91.16</td>\n",
       "      <td>5.09</td>\n",
       "      <td>128.33</td>\n",
       "    </tr>\n",
       "    <tr>\n",
       "      <th>min</th>\n",
       "      <td>1.00</td>\n",
       "      <td>13.00</td>\n",
       "      <td>4.00</td>\n",
       "      <td>1.00</td>\n",
       "      <td>3.25</td>\n",
       "    </tr>\n",
       "    <tr>\n",
       "      <th>25%</th>\n",
       "      <td>12.50</td>\n",
       "      <td>785.50</td>\n",
       "      <td>144.50</td>\n",
       "      <td>6.00</td>\n",
       "      <td>196.38</td>\n",
       "    </tr>\n",
       "    <tr>\n",
       "      <th>50%</th>\n",
       "      <td>24.00</td>\n",
       "      <td>1246.00</td>\n",
       "      <td>248.00</td>\n",
       "      <td>8.00</td>\n",
       "      <td>311.50</td>\n",
       "    </tr>\n",
       "    <tr>\n",
       "      <th>75%</th>\n",
       "      <td>35.50</td>\n",
       "      <td>1499.50</td>\n",
       "      <td>283.00</td>\n",
       "      <td>12.00</td>\n",
       "      <td>374.88</td>\n",
       "    </tr>\n",
       "    <tr>\n",
       "      <th>max</th>\n",
       "      <td>47.00</td>\n",
       "      <td>2255.00</td>\n",
       "      <td>394.00</td>\n",
       "      <td>24.00</td>\n",
       "      <td>563.75</td>\n",
       "    </tr>\n",
       "  </tbody>\n",
       "</table>\n",
       "</div>"
      ],
      "text/plain": [
       "       numero_page  nb_caracteres  nb_mots  nb_phrases  nb_tokens_estime\n",
       "count        47.00          47.00    47.00       47.00             47.00\n",
       "mean         24.00        1177.51   222.79        9.57            294.38\n",
       "std          13.71         513.32    91.16        5.09            128.33\n",
       "min           1.00          13.00     4.00        1.00              3.25\n",
       "25%          12.50         785.50   144.50        6.00            196.38\n",
       "50%          24.00        1246.00   248.00        8.00            311.50\n",
       "75%          35.50        1499.50   283.00       12.00            374.88\n",
       "max          47.00        2255.00   394.00       24.00            563.75"
      ]
     },
     "execution_count": 10,
     "metadata": {},
     "output_type": "execute_result"
    }
   ],
   "source": [
    "# Get stats\n",
    "df.describe().round(2)"
   ]
  },
  {
   "cell_type": "markdown",
   "metadata": {},
   "source": [
    "D'accord, il semble que notre nombre moyen de jetons par page soit de 294."
   ]
  },
  {
   "cell_type": "markdown",
   "metadata": {},
   "source": [
    "### Traitement ultérieur du texte (divisation des pages en phrases)\n",
    "\n",
    "La manière idéale de traiter le texte avant de l’intégrer reste un domaine de recherche actif.\n",
    "\n",
    "Une méthode simple que j'ai trouvée utile consiste à diviser le texte en morceaux de phrases.\n",
    "\n",
    "Comme dans, divisez une page de texte en groupes de 5, 7, 10 phrases ou plus (ces valeurs ne sont pas gravées dans le marbre et peuvent être explorées).\n",
    "\n",
    "Mais nous voulons suivre le flux de travail de :\n",
    "\n",
    "`Ingérer du texte -> le diviser en groupes/morceaux -> intégrer les groupes/morceaux -> utiliser les intégrations`\n",
    "\n",
    "Quelques options pour diviser le texte en phrases :\n",
    "\n",
    "1. Diviser en phrases avec des règles simples (par exemple diviser sur \". \" avec `text = text.split(\". \")`, comme nous l'avons fait ci-dessus).\n",
    "2. Divisez en phrases avec une bibliothèque de traitement du langage naturel (NLP) telle que [spaCy](https://spacy.io/) ou [nltk](https://www.nltk.org/).\n",
    "\n",
    "Pourquoi diviser en phrases ?\n",
    "\n",
    "* Plus facile à gérer que des pages de texte plus volumineuses (surtout si les pages sont densément remplies de texte).\n",
    "* Peut être précis et découvrir quel groupe de phrases a été utilisé pour aider dans un pipeline RAG.\n",
    "\n",
    "> **Ressource :** Voir [instructions d'installation de spaCy](https://spacy.io/usage). \n",
    "\n",
    "Utilisons spaCy pour diviser notre texte en phrases, car c'est probablement un peu plus robuste que d'utiliser simplement `text.split(\". \")`."
   ]
  },
  {
   "cell_type": "code",
   "execution_count": 12,
   "metadata": {},
   "outputs": [
    {
     "name": "stdout",
     "output_type": "stream",
     "text": [
      "[Ceci est une phrase., Voici une autre phrase.]\n"
     ]
    }
   ],
   "source": [
    "from spacy.lang.fr import French # see https://spacy.io/usage for install instructions\n",
    "\n",
    "nlp = French()\n",
    "\n",
    "# Add a sentencizer pipeline, see https://spacy.io/api/sentencizer/ \n",
    "nlp.add_pipe(\"sentencizer\")\n",
    "\n",
    "# Create a document instance as an example\n",
    "doc = nlp(\"Ceci est une phrase. Voici une autre phrase.\")\n",
    "assert len(list(doc.sents)) == 2\n",
    "\n",
    "# Accéder aux phrases du document\n",
    "print(list(doc.sents))  # Affiche les phrases détectées\n"
   ]
  },
  {
   "cell_type": "markdown",
   "metadata": {},
   "source": [
    "Nous n'avons pas nécessairement besoin d'utiliser spaCy, cependant, il s'agit d'une bibliothèque open source conçue pour effectuer des tâches NLP comme celle-ci à grande échelle.\n",
    "\n",
    "Alors exécutons notre petit pipeline de détermination de peine sur nos pages de texte."
   ]
  },
  {
   "cell_type": "code",
   "execution_count": 14,
   "metadata": {},
   "outputs": [
    {
     "name": "stderr",
     "output_type": "stream",
     "text": [
      "Traitement des phrases avec SpaCy: 100%|██████████| 47/47 [00:00<00:00, 47.82it/s]"
     ]
    },
    {
     "name": "stdout",
     "output_type": "stream",
     "text": [
      "\n",
      "--- Exemple de page analysée ---\n",
      "Numéro de page : 17\n",
      "Nombre de phrases détectées (SpaCy) : 17\n",
      "Quelques phrases extraites :\n",
      "- Page 17 sur 47    La masse d’un corps caractérise la quantité de matière que contient ou qui constitue ce corps .\n",
      "-  La masse est symbolisée par la lettre « M » ou « m ».\n",
      "- Elle se mesure à l’aide d’une balance et son unité légale est le kilogramme de  symbole « kg ».\n"
     ]
    },
    {
     "name": "stderr",
     "output_type": "stream",
     "text": [
      "\n"
     ]
    }
   ],
   "source": [
    "# Divise le texte en phrases pour chaque page dans `pages_and_texts`\n",
    "for item in tqdm(pages_and_texts, desc=\"Traitement des phrases avec SpaCy\"):\n",
    "    # Extraire les phrases de la page\n",
    "    item[\"phrases\"] = list(nlp(item[\"texte\"]).sents)\n",
    "\n",
    "    # Convertir les phrases en chaînes de caractères\n",
    "    item[\"phrases\"] = [str(phrase) for phrase in item[\"phrases\"]]\n",
    "\n",
    "    # Compter le nombre de phrases détectées sur la page\n",
    "    item[\"nb_phrases_spacy\"] = len(item[\"phrases\"])\n",
    "\n",
    "# Inspection d'une page aléatoire pour vérifier les résultats\n",
    "page_aleatoire = random.sample(pages_and_texts, k=1)[0]  # Sélectionne une page aléatoire\n",
    "\n",
    "# Afficher les résultats pour la page sélectionnée\n",
    "print(\"\\n--- Exemple de page analysée ---\")\n",
    "print(f\"Numéro de page : {page_aleatoire['numero_page']}\")\n",
    "print(f\"Nombre de phrases détectées (SpaCy) : {page_aleatoire['nb_phrases_spacy']}\")\n",
    "print(\"Quelques phrases extraites :\")\n",
    "for phrase in page_aleatoire[\"phrases\"][:3]:  # Affiche les 3 premières phrases\n",
    "    print(f\"- {phrase}\")"
   ]
  },
  {
   "cell_type": "markdown",
   "metadata": {},
   "source": [
    "Merveilleux!\n",
    "\n",
    "Transformons maintenant la liste des dictionnaires en DataFrame et obtenons quelques statistiques."
   ]
  },
  {
   "cell_type": "code",
   "execution_count": 15,
   "metadata": {},
   "outputs": [
    {
     "data": {
      "text/html": [
       "<div>\n",
       "<style scoped>\n",
       "    .dataframe tbody tr th:only-of-type {\n",
       "        vertical-align: middle;\n",
       "    }\n",
       "\n",
       "    .dataframe tbody tr th {\n",
       "        vertical-align: top;\n",
       "    }\n",
       "\n",
       "    .dataframe thead th {\n",
       "        text-align: right;\n",
       "    }\n",
       "</style>\n",
       "<table border=\"1\" class=\"dataframe\">\n",
       "  <thead>\n",
       "    <tr style=\"text-align: right;\">\n",
       "      <th></th>\n",
       "      <th>numero_page</th>\n",
       "      <th>nb_caracteres</th>\n",
       "      <th>nb_mots</th>\n",
       "      <th>nb_phrases</th>\n",
       "      <th>nb_tokens_estime</th>\n",
       "      <th>nb_phrases_spacy</th>\n",
       "    </tr>\n",
       "  </thead>\n",
       "  <tbody>\n",
       "    <tr>\n",
       "      <th>count</th>\n",
       "      <td>47.00</td>\n",
       "      <td>47.00</td>\n",
       "      <td>47.00</td>\n",
       "      <td>47.00</td>\n",
       "      <td>47.00</td>\n",
       "      <td>47.00</td>\n",
       "    </tr>\n",
       "    <tr>\n",
       "      <th>mean</th>\n",
       "      <td>24.00</td>\n",
       "      <td>1177.51</td>\n",
       "      <td>222.79</td>\n",
       "      <td>9.57</td>\n",
       "      <td>294.38</td>\n",
       "      <td>9.83</td>\n",
       "    </tr>\n",
       "    <tr>\n",
       "      <th>std</th>\n",
       "      <td>13.71</td>\n",
       "      <td>513.32</td>\n",
       "      <td>91.16</td>\n",
       "      <td>5.09</td>\n",
       "      <td>128.33</td>\n",
       "      <td>5.52</td>\n",
       "    </tr>\n",
       "    <tr>\n",
       "      <th>min</th>\n",
       "      <td>1.00</td>\n",
       "      <td>13.00</td>\n",
       "      <td>4.00</td>\n",
       "      <td>1.00</td>\n",
       "      <td>3.25</td>\n",
       "      <td>1.00</td>\n",
       "    </tr>\n",
       "    <tr>\n",
       "      <th>25%</th>\n",
       "      <td>12.50</td>\n",
       "      <td>785.50</td>\n",
       "      <td>144.50</td>\n",
       "      <td>6.00</td>\n",
       "      <td>196.38</td>\n",
       "      <td>6.00</td>\n",
       "    </tr>\n",
       "    <tr>\n",
       "      <th>50%</th>\n",
       "      <td>24.00</td>\n",
       "      <td>1246.00</td>\n",
       "      <td>248.00</td>\n",
       "      <td>8.00</td>\n",
       "      <td>311.50</td>\n",
       "      <td>8.00</td>\n",
       "    </tr>\n",
       "    <tr>\n",
       "      <th>75%</th>\n",
       "      <td>35.50</td>\n",
       "      <td>1499.50</td>\n",
       "      <td>283.00</td>\n",
       "      <td>12.00</td>\n",
       "      <td>374.88</td>\n",
       "      <td>13.00</td>\n",
       "    </tr>\n",
       "    <tr>\n",
       "      <th>max</th>\n",
       "      <td>47.00</td>\n",
       "      <td>2255.00</td>\n",
       "      <td>394.00</td>\n",
       "      <td>24.00</td>\n",
       "      <td>563.75</td>\n",
       "      <td>28.00</td>\n",
       "    </tr>\n",
       "  </tbody>\n",
       "</table>\n",
       "</div>"
      ],
      "text/plain": [
       "       numero_page  nb_caracteres  nb_mots  nb_phrases  nb_tokens_estime  \\\n",
       "count        47.00          47.00    47.00       47.00             47.00   \n",
       "mean         24.00        1177.51   222.79        9.57            294.38   \n",
       "std          13.71         513.32    91.16        5.09            128.33   \n",
       "min           1.00          13.00     4.00        1.00              3.25   \n",
       "25%          12.50         785.50   144.50        6.00            196.38   \n",
       "50%          24.00        1246.00   248.00        8.00            311.50   \n",
       "75%          35.50        1499.50   283.00       12.00            374.88   \n",
       "max          47.00        2255.00   394.00       24.00            563.75   \n",
       "\n",
       "       nb_phrases_spacy  \n",
       "count             47.00  \n",
       "mean               9.83  \n",
       "std                5.52  \n",
       "min                1.00  \n",
       "25%                6.00  \n",
       "50%                8.00  \n",
       "75%               13.00  \n",
       "max               28.00  "
      ]
     },
     "execution_count": 15,
     "metadata": {},
     "output_type": "execute_result"
    }
   ],
   "source": [
    "df = pd.DataFrame(pages_and_texts)\n",
    "df.describe().round(2)"
   ]
  },
  {
   "cell_type": "markdown",
   "metadata": {},
   "source": [
    "Maintenant que notre texte est divisé en phrases, on regroupe ces phrases ?"
   ]
  },
  {
   "cell_type": "markdown",
   "metadata": {},
   "source": [
    "### Regrouper nos phrases ensemble\n",
    "\n",
    "Faisons un pas pour diviser notre liste de phrases/texte en morceaux plus petits.\n",
    "\n",
    "Comme vous l'avez peut-être deviné, ce processus est appelé **chunking**.\n",
    "\n",
    "Pourquoi faisons-nous cela ?\n",
    "\n",
    "1. Plus facile de gérer des morceaux de texte de taille similaire.\n",
    "2. Ne surchargez pas la capacité des modèles d'intégration pour les jetons (par exemple, si un modèle d'intégration a une capacité de 384 jetons, il pourrait y avoir une perte d'informations si vous essayez d'intégrer une séquence de plus de 400 jetons).\n",
    "3. Notre fenêtre contextuelle LLM (la quantité de jetons qu'un LLM peut accepter) peut être limitée et nécessite de la puissance de calcul, nous voulons donc nous assurer que nous l'utilisons aussi bien que possible.\n",
    "\n",
    "Il convient de noter qu'il existe de nombreuses façons différentes de créer des morceaux d'informations/de texte."
   ]
  },
  {
   "cell_type": "code",
   "execution_count": 16,
   "metadata": {},
   "outputs": [
    {
     "name": "stderr",
     "output_type": "stream",
     "text": [
      "Création des chunks de phrases: 100%|██████████| 47/47 [00:00<00:00, 26718.93it/s]"
     ]
    },
    {
     "name": "stdout",
     "output_type": "stream",
     "text": [
      "\n",
      "--- Exemple d'une page avec des chunks ---\n",
      "Numéro de page : 46\n",
      "Nombre de chunks : 2\n",
      "Quelques chunks de phrases :\n",
      "\n",
      "Chunk 1 :\n",
      "- Page 46 sur 47    - Définition : jeu, surfaces fonctionnelles, moulage, emboutissage, forgeage, tournage, soudage, rivetage, montage à force, vis-écrou,  boulon, taraudage, filetage ;   ✓ Le moulage : Il consiste à verser une substance dans un moule, celle si prend la forme du moule après solidification exemple dans  la fabrication des parpaings.\n",
      "-  ✓ Le forgeage : C’est la déformation à chaud ou à froid d’un métal sous l’action de la pression.\n",
      "-  ✓ Le tournage : C’est une technique de fabrication qui consiste à faire roter la pièce pendant que l’outil se déplace en translation.\n",
      "-  -  Procédé d’assemblage.\n",
      "-  Assembler des pièces c’est les mettre en liaison.\n",
      "- Une liaison impose une stabilité entre les surfaces en contacts des deux objets.\n",
      "- Ces  surfaces de contact sont appelés surfaces fonctionnelles.\n",
      "- Il existe par conséquent des assemblages démontables comme de vissage,  l’emboitement et les assemblages non démontables qui sont fait soit par soudure, par collage, par rivetage.\n",
      "-  ✓ Les filetages : Le filetage est très utilisé en construction mécanique, on obtient par exécution de rainures hélicoïdales.\n",
      "- Chaque  filetage est caractérisé par le diamètre nominal, le pas, le nombre de filet et le sens de l’hélice.\n",
      "\n",
      "Chunk 2 :\n",
      "-  ✓ On appelle jeu, un léger écart que l’on prévoit entre deux pièces pour faciliter un mouvement ou empêcher une déformation de  pièce à la suite d’une dilatation.\n",
      "-          - Les fonctions d’un système vis- écrou ;\n"
     ]
    },
    {
     "name": "stderr",
     "output_type": "stream",
     "text": [
      "\n"
     ]
    }
   ],
   "source": [
    "# Définir la taille des groupes de phrases pour créer des chunks\n",
    "taille_chunk_phrases = 10 \n",
    "\n",
    "# Fonction pour diviser récursivement une liste en sous-listes de taille définie\n",
    "def diviser_liste(liste_entree: list, \n",
    "                  taille_sous_liste: int) -> list[list[str]]:\n",
    "    \"\"\"\n",
    "    Divise la liste_entree en sous-listes de taille taille_sous_liste (ou aussi proches que possible).\n",
    "\n",
    "    Par exemple, une liste de 17 phrases sera divisée en deux sous-listes : [[10], [7]].\n",
    "    \"\"\"\n",
    "    return [liste_entree[i:i + taille_sous_liste] for i in range(0, len(liste_entree), taille_sous_liste)]\n",
    "\n",
    "# Parcourir les pages et textes pour diviser les phrases en chunks\n",
    "for item in tqdm(pages_and_texts, desc=\"Création des chunks de phrases\"):\n",
    "    # Diviser les phrases en groupes\n",
    "    item[\"chunks_phrases\"] = diviser_liste(liste_entree=item[\"phrases\"],\n",
    "                                           taille_sous_liste=taille_chunk_phrases)\n",
    "    \n",
    "    # Ajouter le nombre total de chunks\n",
    "    item[\"nb_chunks\"] = len(item[\"chunks_phrases\"])\n",
    "\n",
    "# Exemple : Affiche le contenu pour une page aléatoire\n",
    "import random\n",
    "\n",
    "page_aleatoire = random.sample(pages_and_texts, k=1)[0]  # Sélectionner une page aléatoire\n",
    "\n",
    "print(\"\\n--- Exemple d'une page avec des chunks ---\")\n",
    "print(f\"Numéro de page : {page_aleatoire['numero_page']}\")\n",
    "print(f\"Nombre de chunks : {page_aleatoire['nb_chunks']}\")\n",
    "print(\"Quelques chunks de phrases :\")\n",
    "for i, chunk in enumerate(page_aleatoire[\"chunks_phrases\"][:3], start=1):  # Affiche les 3 premiers chunks\n",
    "    print(f\"\\nChunk {i} :\")\n",
    "    for phrase in chunk:\n",
    "        print(f\"- {phrase}\")\n"
   ]
  },
  {
   "cell_type": "code",
   "execution_count": 17,
   "metadata": {},
   "outputs": [
    {
     "name": "stdout",
     "output_type": "stream",
     "text": [
      "\n",
      "--- Exemple de page avec des chunks ---\n",
      "Numéro de page : 4\n",
      "Nombre de chunks de phrases : 2\n",
      "Quelques chunks de phrases :\n",
      "\n",
      "Chunk 1 :\n",
      "- Page 4 sur 47    1.2- Les aimants  et le champ magnétique terrestre   Un aimant est un matériau développant naturellement un champ magnétique et capable d’attirer le fer, le nickel, le cobalt et le chrome.\n",
      "-  Situation problème : Djiaha rapproche 2 aimants et constate qu’ils se collent.\n",
      "- Ensuite elle retourne un coté d’un aimant et les  rapprochent.\n",
      "- Elle constate qu’ils ne veulent pas se coller.\n",
      "-  Expliquer lui ce qui se passe.\n",
      "-  1.2.1 Les pôles d’un aimant   Un aimant à un pôle nord et un pôle sud quel qu’en soit sa taille.\n",
      "- Les pôles de même nature se repoussent et celle de natures contraires  s’attirent.\n",
      "- Il existe des aimants naturels (la magnétite et la terre) et des aimants artificiels (les aimants permanents tels que les aimants en  U, en barreau aimanté, en cercle, l’aiguille magnétique et les aimants temporaires tels que les électroaimants)  Situation problème : Onana veut savoir pourquoi lorsqu’il saute il ne cale pas en l’air et lorsqu’il lance un objet en l’air il retombe  toujours sur la surface de la terre ?\n",
      "-  1.2.2 Le champ magnétique terrestre    Le champ magnétique terrestre est le champ magnétique qui recouvre la terre.\n",
      "-  Situation problème : Tatchum va dans une agence pour recevoir un mandat envoyé par son père.\n",
      "\n",
      "Chunk 2 :\n",
      "- Lorsqu’il pousse la porte, non  seulement elle est légèrement difficile mais il constate qu’elle se referme seule.\n",
      "- Il arrive au guichet et remarque un autre client qui sort  de sa poche des pièces de 100 et 50 frs coller sur un aimant.\n",
      "- De retour chez eux, il remarque que lorsque son frère retire l’aimant  circulaire sur leur baffle, le son ne sort plus de baffle.\n",
      "- Selon vous quel rôle joue les aimants dans chacun de ces cas ?\n",
      "-  1.2.3 Quelques usages techniques des aimants permanents et des électroaimants ;   Aimants : fermeture des portes, reproduction du son, conservation des objets ferromagnétiques, etc.  Electro-aimants : manutention, fonctionnement des machines électriques tournantes (dynamo, alternateurs, etc.), etc.  Situation problème : Kamga va chasser les rats en forêt.\n",
      "- A force de les suivre dans la forêt, il se perd.\n",
      "- Comment pouvez-vous l’aider à  retrouver son chemin ?\n",
      "\n",
      "--- Chunk aléatoire sélectionné ---\n",
      "- Page 4 sur 47    1.2- Les aimants  et le champ magnétique terrestre   Un aimant est un matériau développant naturellement un champ magnétique et capable d’attirer le fer, le nickel, le cobalt et le chrome.\n",
      "-  Situation problème : Djiaha rapproche 2 aimants et constate qu’ils se collent.\n",
      "- Ensuite elle retourne un coté d’un aimant et les  rapprochent.\n",
      "- Elle constate qu’ils ne veulent pas se coller.\n",
      "-  Expliquer lui ce qui se passe.\n",
      "-  1.2.1 Les pôles d’un aimant   Un aimant à un pôle nord et un pôle sud quel qu’en soit sa taille.\n",
      "- Les pôles de même nature se repoussent et celle de natures contraires  s’attirent.\n",
      "- Il existe des aimants naturels (la magnétite et la terre) et des aimants artificiels (les aimants permanents tels que les aimants en  U, en barreau aimanté, en cercle, l’aiguille magnétique et les aimants temporaires tels que les électroaimants)  Situation problème : Onana veut savoir pourquoi lorsqu’il saute il ne cale pas en l’air et lorsqu’il lance un objet en l’air il retombe  toujours sur la surface de la terre ?\n",
      "-  1.2.2 Le champ magnétique terrestre    Le champ magnétique terrestre est le champ magnétique qui recouvre la terre.\n",
      "-  Situation problème : Tatchum va dans une agence pour recevoir un mandat envoyé par son père.\n"
     ]
    }
   ],
   "source": [
    "# Sélectionner un exemple aléatoire parmi les pages traitées\n",
    "import random\n",
    "\n",
    "# Sélectionne une page aléatoire de `pages_and_texts`\n",
    "page_aleatoire = random.sample(pages_and_texts, k=1)[0]\n",
    "\n",
    "# Afficher des informations sur la page sélectionnée\n",
    "print(\"\\n--- Exemple de page avec des chunks ---\")\n",
    "print(f\"Numéro de page : {page_aleatoire['numero_page']}\")\n",
    "print(f\"Nombre de chunks de phrases : {page_aleatoire['nb_chunks']}\")\n",
    "\n",
    "# Affiche les chunks (chaque chunk contient plusieurs phrases, si la page a plus de 10 phrases)\n",
    "print(\"Quelques chunks de phrases :\")\n",
    "for i, chunk in enumerate(page_aleatoire[\"chunks_phrases\"][:3], start=1):  # Affiche les 3 premiers chunks\n",
    "    print(f\"\\nChunk {i} :\")\n",
    "    for phrase in chunk:\n",
    "        print(f\"- {phrase}\")\n",
    "\n",
    "# Exemple de sélection d'un chunk aléatoire parmi ceux de cette page\n",
    "if page_aleatoire[\"nb_chunks\"] > 1:  # Vérifie si la page contient plusieurs chunks\n",
    "    chunk_aleatoire = random.choice(page_aleatoire[\"chunks_phrases\"])\n",
    "    print(\"\\n--- Chunk aléatoire sélectionné ---\")\n",
    "    for phrase in chunk_aleatoire:\n",
    "        print(f\"- {phrase}\")\n",
    "else:\n",
    "    print(\"\\nLa page ne contient qu'un seul chunk.\")\n"
   ]
  },
  {
   "cell_type": "code",
   "execution_count": 18,
   "metadata": {},
   "outputs": [
    {
     "name": "stdout",
     "output_type": "stream",
     "text": [
      "       numero_page  nb_caracteres  nb_mots  nb_phrases  nb_tokens_estime  \\\n",
      "count        47.00          47.00    47.00       47.00             47.00   \n",
      "mean         24.00        1177.51   222.79        9.57            294.38   \n",
      "std          13.71         513.32    91.16        5.09            128.33   \n",
      "min           1.00          13.00     4.00        1.00              3.25   \n",
      "25%          12.50         785.50   144.50        6.00            196.38   \n",
      "50%          24.00        1246.00   248.00        8.00            311.50   \n",
      "75%          35.50        1499.50   283.00       12.00            374.88   \n",
      "max          47.00        2255.00   394.00       24.00            563.75   \n",
      "\n",
      "       nb_phrases_spacy  nb_chunks  \n",
      "count             47.00      47.00  \n",
      "mean               9.83       1.38  \n",
      "std                5.52       0.53  \n",
      "min                1.00       1.00  \n",
      "25%                6.00       1.00  \n",
      "50%                8.00       1.00  \n",
      "75%               13.00       2.00  \n",
      "max               28.00       3.00  \n"
     ]
    }
   ],
   "source": [
    "# Crée un DataFrame à partir des données de `pages_and_texts`\n",
    "df = pd.DataFrame(pages_and_texts)\n",
    "\n",
    "# Affiche les statistiques descriptives\n",
    "df_stats = df.describe().round(2)\n",
    "\n",
    "# Affiche le DataFrame avec les statistiques\n",
    "print(df_stats)"
   ]
  },
  {
   "cell_type": "markdown",
   "metadata": {},
   "source": [
    "### Diviser chaque morceau en son propre élément\n",
    "\n",
    "Nous aimerions embedder chaque morceau de phrases dans sa propre représentation numérique.\n",
    "\n",
    "Donc, pour garder les choses claires, créons une nouvelle liste de dictionnaires contenant chacun un seul morceau de phrases avec des informations relatives telles que le numéro de page ainsi que des statistiques sur chaque morceau."
   ]
  },
  {
   "cell_type": "code",
   "execution_count": 21,
   "metadata": {},
   "outputs": [
    {
     "name": "stderr",
     "output_type": "stream",
     "text": [
      "Traitement des chunks de phrases: 100%|██████████| 47/47 [00:00<00:00, 428.59it/s]"
     ]
    },
    {
     "name": "stdout",
     "output_type": "stream",
     "text": [
      "Nombre total de chunks traités : 65\n"
     ]
    },
    {
     "name": "stderr",
     "output_type": "stream",
     "text": [
      "\n"
     ]
    }
   ],
   "source": [
    "import re\n",
    "\n",
    "# Liste pour stocker les chunks traités\n",
    "pages_et_chunks = []\n",
    "\n",
    "# Parcourt les pages et les chunks pour créer des données sur chaque chunk\n",
    "for item in tqdm(pages_and_texts, desc=\"Traitement des chunks de phrases\"):\n",
    "    for chunk_de_phrases in item[\"chunks_phrases\"]:\n",
    "        chunk_dict = {}\n",
    "        chunk_dict[\"numero_page\"] = item[\"numero_page\"]\n",
    "        \n",
    "        # Joindre les phrases pour former un \"paragraphe\" ou chunk\n",
    "        chunk_texte = \"\".join(chunk_de_phrases).replace(\"  \", \" \").strip()\n",
    "        chunk_texte = re.sub(r'\\.([A-Z])', r'. \\1', chunk_texte)  # Format \".A\" -> \". A\" pour toute combinaison point/majuscule\n",
    "        chunk_dict[\"chunk_texte\"] = chunk_texte\n",
    "\n",
    "        # Calculer les statistiques pour le chunk\n",
    "        chunk_dict[\"chunk_nb_caracteres\"] = len(chunk_texte)\n",
    "        chunk_dict[\"chunk_nb_mots\"] = len(chunk_texte.split(\" \"))\n",
    "        chunk_dict[\"chunk_nb_tokens\"] = len(chunk_texte) / 4  # Estimation des tokens (1 token ≈ 4 caractères)\n",
    "        \n",
    "        # Ajouter le chunk traité à la liste des chunks\n",
    "        pages_et_chunks.append(chunk_dict)\n",
    "\n",
    "# Vérifie combien de chunks ont été traités\n",
    "print(f\"Nombre total de chunks traités : {len(pages_et_chunks)}\")"
   ]
  },
  {
   "cell_type": "code",
   "execution_count": 22,
   "metadata": {},
   "outputs": [
    {
     "data": {
      "text/plain": [
       "[{'numero_page': 22,\n",
       "  'chunk_texte': \"Page 22 sur 47  b- Après plusieurs pluies, on a constaté que le lessivage de son champs a entrainer la croissance anormale des plantes aquatiques et la mort des animaux aquatiques due à l’utilisation abusive des engrais dans son champs. Comment explique-t-on ce phénomène ?les engrais sont-ils dangereux pour notre santé ? 3.2. Les engrais  3.2 .1. Définition : Fertilisation, élément fertilisant, engrais ;  La fertilisation est le processus consistant à apporter à un milieu de culture, tel que le sol, les éléments minéraux nécessaires au développement de la plante. Les engrais sont des substances organiques ou minérales, souvent utilisées en mélanges, destinées à apporter aux plantes des compléments d'éléments nutritifs, de façon à améliorer leur croissance, et à augmenter le rendement et la qualité des cultures. Les éléments fertilisants : produits destinés à assurer ou à améliorer la nutrition des végétaux et les propriétés des sols. 3.2.2. Les éléments fertilisants et leur rôle  Les éléments nutritifs essentiels sont : l’Azote (N), le phosphore (P), le potassium (K).\",\n",
       "  'chunk_nb_caracteres': 1084,\n",
       "  'chunk_nb_mots': 172,\n",
       "  'chunk_nb_tokens': 271.0}]"
      ]
     },
     "execution_count": 22,
     "metadata": {},
     "output_type": "execute_result"
    }
   ],
   "source": [
    "# View a random sample\n",
    "random.sample(pages_et_chunks, k=1)\n"
   ]
  },
  {
   "cell_type": "markdown",
   "metadata": {},
   "source": [
    "**Excellent**!\n"
   ]
  },
  {
   "cell_type": "markdown",
   "metadata": {},
   "source": [
    "### Embedder  nos morceaux de texte"
   ]
  },
  {
   "cell_type": "code",
   "execution_count": 23,
   "metadata": {},
   "outputs": [],
   "source": [
    "# Créer une liste des chunks de texte\n",
    "chunks_texte = [item[\"chunk_texte\"] for item in pages_et_chunks]\n"
   ]
  },
  {
   "cell_type": "code",
   "execution_count": 36,
   "metadata": {},
   "outputs": [
    {
     "name": "stderr",
     "output_type": "stream",
     "text": [
      "Traitement des chunks:   0%|          | 0/2 [00:00<?, ?it/s]"
     ]
    },
    {
     "name": "stderr",
     "output_type": "stream",
     "text": [
      "Traitement des chunks: 100%|██████████| 2/2 [00:03<00:00,  1.90s/it]"
     ]
    },
    {
     "name": "stdout",
     "output_type": "stream",
     "text": [
      "                             chunk_texte  embedding\n",
      "0          Ceci est un exemple de texte.  -0.357687\n",
      "1  Un autre exemple de morceau de texte.  -0.148989\n"
     ]
    },
    {
     "name": "stderr",
     "output_type": "stream",
     "text": [
      "\n"
     ]
    }
   ],
   "source": []
  },
  {
   "cell_type": "code",
   "execution_count": null,
   "metadata": {},
   "outputs": [],
   "source": []
  }
 ],
 "metadata": {
  "kernelspec": {
   "display_name": "my_venv",
   "language": "python",
   "name": "python3"
  },
  "language_info": {
   "codemirror_mode": {
    "name": "ipython",
    "version": 3
   },
   "file_extension": ".py",
   "mimetype": "text/x-python",
   "name": "python",
   "nbconvert_exporter": "python",
   "pygments_lexer": "ipython3",
   "version": "3.11.1"
  }
 },
 "nbformat": 4,
 "nbformat_minor": 2
}
